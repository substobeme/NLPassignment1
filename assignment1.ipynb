{
 "cells": [
  {
   "cell_type": "code",
   "execution_count": 2,
   "metadata": {},
   "outputs": [],
   "source": [
    "import pandas as pd\n",
    "import numpy as np"
   ]
  },
  {
   "cell_type": "code",
   "execution_count": 3,
   "metadata": {},
   "outputs": [
    {
     "data": {
      "text/html": [
       "<div>\n",
       "<style scoped>\n",
       "    .dataframe tbody tr th:only-of-type {\n",
       "        vertical-align: middle;\n",
       "    }\n",
       "\n",
       "    .dataframe tbody tr th {\n",
       "        vertical-align: top;\n",
       "    }\n",
       "\n",
       "    .dataframe thead th {\n",
       "        text-align: right;\n",
       "    }\n",
       "</style>\n",
       "<table border=\"1\" class=\"dataframe\">\n",
       "  <thead>\n",
       "    <tr style=\"text-align: right;\">\n",
       "      <th></th>\n",
       "      <th>[('DF', 'PROPN')]</th>\n",
       "    </tr>\n",
       "  </thead>\n",
       "  <tbody>\n",
       "    <tr>\n",
       "      <th>0</th>\n",
       "      <td>[('03/01/2001', 'NUM'), ('01:35', 'NUM'), ('PM...</td>\n",
       "    </tr>\n",
       "    <tr>\n",
       "      <th>1</th>\n",
       "      <td>[('The', 'DET'), ('industry', 'NOUN'), ('has',...</td>\n",
       "    </tr>\n",
       "    <tr>\n",
       "      <th>2</th>\n",
       "      <td>[('Love', 'VERB'), ('this', 'DET'), ('place', ...</td>\n",
       "    </tr>\n",
       "    <tr>\n",
       "      <th>3</th>\n",
       "      <td>[('This', 'DET'), ('problem', 'NOUN'), ('of', ...</td>\n",
       "    </tr>\n",
       "    <tr>\n",
       "      <th>4</th>\n",
       "      <td>[('Esso', 'PROPN'), ('said', 'VERB'), ('0', 'X...</td>\n",
       "    </tr>\n",
       "  </tbody>\n",
       "</table>\n",
       "</div>"
      ],
      "text/plain": [
       "                                   [('DF', 'PROPN')]\n",
       "0  [('03/01/2001', 'NUM'), ('01:35', 'NUM'), ('PM...\n",
       "1  [('The', 'DET'), ('industry', 'NOUN'), ('has',...\n",
       "2  [('Love', 'VERB'), ('this', 'DET'), ('place', ...\n",
       "3  [('This', 'DET'), ('problem', 'NOUN'), ('of', ...\n",
       "4  [('Esso', 'PROPN'), ('said', 'VERB'), ('0', 'X..."
      ]
     },
     "execution_count": 3,
     "metadata": {},
     "output_type": "execute_result"
    }
   ],
   "source": [
    "df_train = pd.read_csv('TRAIN - TRAIN.csv.csv')\n",
    "df_train.head()"
   ]
  },
  {
   "cell_type": "code",
   "execution_count": 5,
   "metadata": {},
   "outputs": [
    {
     "data": {
      "text/html": [
       "<div>\n",
       "<style scoped>\n",
       "    .dataframe tbody tr th:only-of-type {\n",
       "        vertical-align: middle;\n",
       "    }\n",
       "\n",
       "    .dataframe tbody tr th {\n",
       "        vertical-align: top;\n",
       "    }\n",
       "\n",
       "    .dataframe thead th {\n",
       "        text-align: right;\n",
       "    }\n",
       "</style>\n",
       "<table border=\"1\" class=\"dataframe\">\n",
       "  <thead>\n",
       "    <tr style=\"text-align: right;\">\n",
       "      <th></th>\n",
       "      <th>[('DF', 'PROPN')]</th>\n",
       "    </tr>\n",
       "  </thead>\n",
       "  <tbody>\n",
       "    <tr>\n",
       "      <th>0</th>\n",
       "      <td>[('03/01/2001', 'NUM'), ('01:35', 'NUM'), ('PM...</td>\n",
       "    </tr>\n",
       "    <tr>\n",
       "      <th>1</th>\n",
       "      <td>[('The', 'DET'), ('industry', 'NOUN'), ('has',...</td>\n",
       "    </tr>\n",
       "    <tr>\n",
       "      <th>2</th>\n",
       "      <td>[('Love', 'VERB'), ('this', 'DET'), ('place', ...</td>\n",
       "    </tr>\n",
       "    <tr>\n",
       "      <th>3</th>\n",
       "      <td>[('This', 'DET'), ('problem', 'NOUN'), ('of', ...</td>\n",
       "    </tr>\n",
       "    <tr>\n",
       "      <th>4</th>\n",
       "      <td>[('Esso', 'PROPN'), ('said', 'VERB'), ('0', 'X...</td>\n",
       "    </tr>\n",
       "    <tr>\n",
       "      <th>...</th>\n",
       "      <td>...</td>\n",
       "    </tr>\n",
       "    <tr>\n",
       "      <th>65619</th>\n",
       "      <td>[('Thus', 'ADV'), (',', '.'), ('paradoxically'...</td>\n",
       "    </tr>\n",
       "    <tr>\n",
       "      <th>65620</th>\n",
       "      <td>[('Someone', 'NOUN'), ('reasonably', 'ADV'), (...</td>\n",
       "    </tr>\n",
       "    <tr>\n",
       "      <th>65621</th>\n",
       "      <td>[('During', 'ADP'), ('this', 'DET'), ('search'...</td>\n",
       "    </tr>\n",
       "    <tr>\n",
       "      <th>65622</th>\n",
       "      <td>[('Thank', 'VERB'), ('you', 'PRON'), ('for', '...</td>\n",
       "    </tr>\n",
       "    <tr>\n",
       "      <th>65623</th>\n",
       "      <td>[(\"Today's\", 'NOUN'), ('earthquakes', 'NOUN'),...</td>\n",
       "    </tr>\n",
       "  </tbody>\n",
       "</table>\n",
       "<p>65624 rows × 1 columns</p>\n",
       "</div>"
      ],
      "text/plain": [
       "                                       [('DF', 'PROPN')]\n",
       "0      [('03/01/2001', 'NUM'), ('01:35', 'NUM'), ('PM...\n",
       "1      [('The', 'DET'), ('industry', 'NOUN'), ('has',...\n",
       "2      [('Love', 'VERB'), ('this', 'DET'), ('place', ...\n",
       "3      [('This', 'DET'), ('problem', 'NOUN'), ('of', ...\n",
       "4      [('Esso', 'PROPN'), ('said', 'VERB'), ('0', 'X...\n",
       "...                                                  ...\n",
       "65619  [('Thus', 'ADV'), (',', '.'), ('paradoxically'...\n",
       "65620  [('Someone', 'NOUN'), ('reasonably', 'ADV'), (...\n",
       "65621  [('During', 'ADP'), ('this', 'DET'), ('search'...\n",
       "65622  [('Thank', 'VERB'), ('you', 'PRON'), ('for', '...\n",
       "65623  [(\"Today's\", 'NOUN'), ('earthquakes', 'NOUN'),...\n",
       "\n",
       "[65624 rows x 1 columns]"
      ]
     },
     "execution_count": 5,
     "metadata": {},
     "output_type": "execute_result"
    }
   ],
   "source": [
    "df_test = pd.read_csv('TEST - TEST.csv.csv')\n",
    "df_test"
   ]
  },
  {
   "cell_type": "code",
   "execution_count": 6,
   "metadata": {},
   "outputs": [
    {
     "data": {
      "text/plain": [
       "\"[('03/01/2001', 'NUM'), ('01:35', 'NUM'), ('PM', 'NOUN')]\""
      ]
     },
     "execution_count": 6,
     "metadata": {},
     "output_type": "execute_result"
    }
   ],
   "source": [
    "x=df_train.iloc[0,-1]\n",
    "x"
   ]
  },
  {
   "cell_type": "code",
   "execution_count": 7,
   "metadata": {},
   "outputs": [
    {
     "data": {
      "text/plain": [
       "(52499, 1)"
      ]
     },
     "execution_count": 7,
     "metadata": {},
     "output_type": "execute_result"
    }
   ],
   "source": [
    "df_train.shape"
   ]
  },
  {
   "cell_type": "code",
   "execution_count": 8,
   "metadata": {},
   "outputs": [],
   "source": [
    "idx =0\n",
    "idx1=1\n",
    "vocab2idx ={}\n",
    "vocab_cnt={}\n",
    "tag_cnt={}\n",
    "tag2idx={}\n",
    "for doc in df_train.iloc[0:-1,0]:\n",
    "    words = eval(doc)\n",
    "    for word,tag in words:\n",
    "        if word not in vocab2idx:\n",
    "            vocab2idx[str(word)]=idx\n",
    "            idx+=1\n",
    "        if word in vocab2idx:\n",
    "            if word not in vocab_cnt:\n",
    "                vocab_cnt[str(word)]=1\n",
    "            else:\n",
    "                vocab_cnt[str(word)]=vocab_cnt[str(word)]+1\n",
    "\n",
    "        if tag not in tag2idx:\n",
    "            tag2idx[tag]=idx1\n",
    "            idx1+=1\n",
    "        if tag in tag2idx:\n",
    "            if tag not in tag_cnt:\n",
    "                tag_cnt[tag]=1\n",
    "            else:\n",
    "                tag_cnt[tag]=tag_cnt[tag]+1\n",
    "        \n",
    "   "
   ]
  },
  {
   "cell_type": "code",
   "execution_count": 9,
   "metadata": {},
   "outputs": [
    {
     "data": {
      "text/plain": [
       "{'03/01/2001': 0,\n",
       " '01:35': 1,\n",
       " 'PM': 2,\n",
       " 'The': 3,\n",
       " 'industry': 4,\n",
       " 'has': 5,\n",
       " 'said': 6,\n",
       " '1960': 7,\n",
       " 'was': 8,\n",
       " 'a': 9,\n",
       " 'poor': 10,\n",
       " 'year': 11,\n",
       " '.': 12,\n",
       " 'Love': 13,\n",
       " 'this': 14,\n",
       " 'place': 15,\n",
       " '!!': 16,\n",
       " 'This': 17,\n",
       " 'problem': 18,\n",
       " 'of': 19,\n",
       " 'the': 20,\n",
       " 'optimum': 21,\n",
       " 'balance': 22,\n",
       " 'in': 23,\n",
       " 'relative': 24,\n",
       " 'numbers': 25,\n",
       " 'generalists': 26,\n",
       " 'and': 27,\n",
       " 'specialists': 28,\n",
       " 'can': 29,\n",
       " 'be': 30,\n",
       " 'investigated': 31,\n",
       " 'on': 32,\n",
       " 'communicative': 33,\n",
       " 'network': 34,\n",
       " 'basis': 35,\n",
       " 'Esso': 36,\n",
       " '0': 37,\n",
       " 'Whiting': 38,\n",
       " 'field': 39,\n",
       " 'started': 40,\n",
       " 'production': 41,\n",
       " 'Tuesday': 42,\n",
       " 'He': 43,\n",
       " 'drew': 44,\n",
       " 'deep': 45,\n",
       " 'breath': 46,\n",
       " 'Glendora': 47,\n",
       " \"''\": 48,\n",
       " '--': 49,\n",
       " 'Each': 50,\n",
       " 'side': 51,\n",
       " 'litany': 52,\n",
       " 'recommendations': 53,\n",
       " 'for': 54,\n",
       " 'other': 55,\n",
       " 'In': 56,\n",
       " 'symposium': 57,\n",
       " 'general': 58,\n",
       " 'exploration': 59,\n",
       " 'Personal': 60,\n",
       " 'Perception': 61,\n",
       " 'Interpersonal': 62,\n",
       " 'Behavior': 63,\n",
       " 'discussion': 64,\n",
       " 'does': 65,\n",
       " 'not': 66,\n",
       " 'touch': 67,\n",
       " 'upon': 68,\n",
       " 'aspect': 69,\n",
       " 'subject': 70,\n",
       " ',': 71,\n",
       " 'with': 72,\n",
       " 'one': 73,\n",
       " 'possible': 74,\n",
       " 'exception': 75,\n",
       " ';': 76,\n",
       " 'Can': 77,\n",
       " 'you': 78,\n",
       " 'please': 79,\n",
       " 'review': 80,\n",
       " 'additional': 81,\n",
       " 'language': 82,\n",
       " 'to': 83,\n",
       " 'risk': 84,\n",
       " 'management': 85,\n",
       " 'policy': 86,\n",
       " '(': 87,\n",
       " 'or': 88,\n",
       " 'circulate': 89,\n",
       " 'Jeff': 90,\n",
       " 'Hodge': 91,\n",
       " ')': 92,\n",
       " '?': 93,\n",
       " '``': 94,\n",
       " 'Do': 95,\n",
       " 'like': 96,\n",
       " 'dance': 97,\n",
       " 'attractive': 98,\n",
       " 'Greer': 99,\n",
       " 'Garson': 100,\n",
       " 'who': 101,\n",
       " 'loves': 102,\n",
       " 'beautiful': 103,\n",
       " 'clothes': 104,\n",
       " 'selects': 105,\n",
       " 'them': 106,\n",
       " 'as': 107,\n",
       " 'carefully': 108,\n",
       " 'she': 109,\n",
       " 'her': 110,\n",
       " 'professional': 111,\n",
       " 'roles': 112,\n",
       " 'prefers': 113,\n",
       " 'timeless': 114,\n",
       " 'classical': 115,\n",
       " 'designs': 116,\n",
       " 'After': 117,\n",
       " 'these': 118,\n",
       " 'theoretical': 119,\n",
       " 'considerations': 120,\n",
       " 'constructional': 121,\n",
       " 'details': 122,\n",
       " 'fiber-coupled': 123,\n",
       " 'double-stage': 124,\n",
       " 'X-ray': 125,\n",
       " 'image': 126,\n",
       " 'intensifier': 127,\n",
       " 'will': 128,\n",
       " 'discussed': 129,\n",
       " 'Well': 130,\n",
       " 'Be': 131,\n",
       " 'sure': 132,\n",
       " 'your': 133,\n",
       " 'ducts': 134,\n",
       " 'blower': 135,\n",
       " 'are': 136,\n",
       " 'big': 137,\n",
       " 'enough': 138,\n",
       " 'handle': 139,\n",
       " 'cooling': 140,\n",
       " 'Salary': 141,\n",
       " 'cut': 142,\n",
       " 'lay-offs': 143,\n",
       " 'There': 144,\n",
       " 'comprehensive': 145,\n",
       " 'index': 146,\n",
       " 'Volume': 147,\n",
       " '3': 148,\n",
       " 'covering': 149,\n",
       " 'all': 150,\n",
       " 'three': 151,\n",
       " 'volumes': 152,\n",
       " 'But': 153,\n",
       " 'Delhi': 154,\n",
       " 'is': 155,\n",
       " 'hardest': 156,\n",
       " 'find': 157,\n",
       " 'nice': 158,\n",
       " 'clean': 159,\n",
       " 'hotel': 160,\n",
       " 'that': 161,\n",
       " 'price': 162,\n",
       " 'What': 163,\n",
       " 'do': 164,\n",
       " 'San': 165,\n",
       " 'Rafael': 166,\n",
       " 'Ca': 167,\n",
       " 'Yes': 168,\n",
       " 'things': 169,\n",
       " 'philosophy': 170,\n",
       " 'fashion': 171,\n",
       " 'design': 172,\n",
       " 'interesting': 173,\n",
       " 'but': 174,\n",
       " 'how': 175,\n",
       " 'many': 176,\n",
       " 'jobs': 177,\n",
       " 'out': 178,\n",
       " 'there': 179,\n",
       " 'someone': 180,\n",
       " 'qualifications': 181,\n",
       " 'Dartmouth': 182,\n",
       " 'student': 183,\n",
       " 'live': 184,\n",
       " 'monastic': 185,\n",
       " 'seclusion': 186,\n",
       " 'he': 187,\n",
       " 'once': 188,\n",
       " 'did': 189,\n",
       " 'Whenever': 190,\n",
       " 'use': 191,\n",
       " 'wooden': 192,\n",
       " 'mold': 193,\n",
       " 'pattern': 194,\n",
       " 'cutting': 195,\n",
       " 'clay': 196,\n",
       " 'Daniel': 197,\n",
       " 'R': 198,\n",
       " 'Castagnola@ENRON_DEVELOPMENT': 199,\n",
       " 'antenna': 200,\n",
       " 'patterns': 201,\n",
       " 'power': 202,\n",
       " 'gain': 203,\n",
       " 'at': 204,\n",
       " 'peak': 205,\n",
       " 'beam': 206,\n",
       " 'were': 207,\n",
       " 'both': 208,\n",
       " 'measured': 209,\n",
       " 'Mayer': 210,\n",
       " 'McCullough': 211,\n",
       " 'Sloanaker': 212,\n",
       " '1958': 213,\n",
       " 'so': 214,\n",
       " 'absolute': 215,\n",
       " 'sensitivity': 216,\n",
       " 'over': 217,\n",
       " 'solid': 218,\n",
       " 'angle': 219,\n",
       " 'moon': 220,\n",
       " 'known': 221,\n",
       " 'had': 222,\n",
       " 'pains': 223,\n",
       " 'growing': 224,\n",
       " 'before': 225,\n",
       " 'him': 226,\n",
       " 'now': 227,\n",
       " 'approached': 228,\n",
       " 'twelve': 229,\n",
       " 'article': 230,\n",
       " 'presents': 231,\n",
       " 'our': 232,\n",
       " 'observations': 233,\n",
       " 'session': 234,\n",
       " 'realtors': 235,\n",
       " 'they': 236,\n",
       " 'saw': 237,\n",
       " 'themselves': 238,\n",
       " 'faculty': 239,\n",
       " 'students': 240,\n",
       " 'outstanding': 241,\n",
       " 'example': 242,\n",
       " 'Garibaldi': 243,\n",
       " 'And': 244,\n",
       " 'Thousand': 245,\n",
       " 'where': 246,\n",
       " 'made': 247,\n",
       " 'unpublished': 248,\n",
       " 'papers': 249,\n",
       " 'Lord': 250,\n",
       " 'John': 251,\n",
       " 'Russell': 252,\n",
       " 'English': 253,\n",
       " 'consular': 254,\n",
       " 'materials': 255,\n",
       " 'reveal': 256,\n",
       " 'motives': 257,\n",
       " 'which': 258,\n",
       " 'led': 259,\n",
       " 'British': 260,\n",
       " 'government': 261,\n",
       " 'permit': 262,\n",
       " 'cross': 263,\n",
       " 'Straits': 264,\n",
       " 'Messina': 265,\n",
       " 'Adds': 266,\n",
       " '*ICH*-1': 267,\n",
       " 'Takeshi': 268,\n",
       " 'Kondo': 269,\n",
       " 'senior': 270,\n",
       " 'vice': 271,\n",
       " 'president': 272,\n",
       " 'C.': 273,\n",
       " 'Itoh': 274,\n",
       " 'America': 275,\n",
       " 'Inc.': 276,\n",
       " ':': 277,\n",
       " 'We': 278,\n",
       " 'have': 279,\n",
       " 'great': 280,\n",
       " 'interest': 281,\n",
       " '*': 282,\n",
       " 'making': 283,\n",
       " 'investments': 284,\n",
       " 'particularly': 285,\n",
       " 'new': 286,\n",
       " 'ventures': 287,\n",
       " 'If': 288,\n",
       " 'cannot': 289,\n",
       " 'wait': 290,\n",
       " 'should': 291,\n",
       " 'book': 292,\n",
       " 'an': 293,\n",
       " 'earlier': 294,\n",
       " 'flight': 295,\n",
       " 'accompanying': 296,\n",
       " 'adults': 297,\n",
       " 'urged': 298,\n",
       " 'keep': 299,\n",
       " 'alert': 300,\n",
       " 'sensible': 301,\n",
       " 'eye': 302,\n",
       " 'their': 303,\n",
       " 'responsibilities': 304,\n",
       " 'Dave': 305,\n",
       " 'some': 306,\n",
       " 'sound': 307,\n",
       " 'meant': 308,\n",
       " 'convey': 309,\n",
       " 'agreement': 310,\n",
       " 'Thanks': 311,\n",
       " 'repeated': 312,\n",
       " 'deployments': 313,\n",
       " 'Iraq': 314,\n",
       " 'Afghanistan': 315,\n",
       " 'recruiting': 316,\n",
       " '-': 317,\n",
       " 'time': 318,\n",
       " 'low': 319,\n",
       " 'Danny': 320,\n",
       " 'Jones': 321,\n",
       " '281-443-3744': 322,\n",
       " 'smithjones@ev1.net': 323,\n",
       " 'I': 324,\n",
       " 'think': 325,\n",
       " 'thing': 326,\n",
       " 'about': 327,\n",
       " 'game': 328,\n",
       " 'kids': 329,\n",
       " 'third': 330,\n",
       " 'straight': 331,\n",
       " 'week': 332,\n",
       " 'stayed': 333,\n",
       " 'pitching': 334,\n",
       " 'kept': 335,\n",
       " 'pressure': 336,\n",
       " 'Six': 337,\n",
       " 'Macrophages': 338,\n",
       " 'laden': 339,\n",
       " 'brown': 340,\n",
       " 'pigment': 341,\n",
       " 'seen': 342,\n",
       " 'alveoli': 343,\n",
       " 'intima': 344,\n",
       " 'small': 345,\n",
       " 'arteries': 346,\n",
       " 'thickened': 347,\n",
       " 'by': 348,\n",
       " 'fibrous': 349,\n",
       " 'tissue': 350,\n",
       " 'Camusfearna': 351,\n",
       " 'site': 352,\n",
       " 'long-vanished': 353,\n",
       " 'sea-village': 354,\n",
       " 'opposite': 355,\n",
       " 'isle': 356,\n",
       " 'Skye': 357,\n",
       " 'liberals': 358,\n",
       " 'smelling': 359,\n",
       " 'blood': 360,\n",
       " 'faced': 361,\n",
       " 'necessity': 362,\n",
       " 'winning': 363,\n",
       " 'votes': 364,\n",
       " 'Democratic': 365,\n",
       " 'Committee': 366,\n",
       " 'Committees': 367,\n",
       " 'full': 368,\n",
       " 'party': 369,\n",
       " 'caucus': 370,\n",
       " 'floor': 371,\n",
       " 'House': 372,\n",
       " 'could': 373,\n",
       " 'oust': 374,\n",
       " 'Colmer': 375,\n",
       " \"Wouldn't\": 376,\n",
       " 'Would': 377,\n",
       " \"n't\": 378,\n",
       " 'go': 379,\n",
       " 'back': 380,\n",
       " 'lot': 381,\n",
       " 'places': 382,\n",
       " 'A': 383,\n",
       " 'LOT': 384,\n",
       " 'better': 385,\n",
       " 'cheaper': 386,\n",
       " 'Please': 387,\n",
       " 'help': 388,\n",
       " 'When': 389,\n",
       " 'first': 390,\n",
       " 'doing': 391,\n",
       " 'it': 392,\n",
       " \"I'd\": 393,\n",
       " \"'d\": 394,\n",
       " 'every': 395,\n",
       " 'day': 396,\n",
       " 'Miriam': 397,\n",
       " 'sniffed': 398,\n",
       " 'complained': 399,\n",
       " 'Wright': 400,\n",
       " 'unkind': 401,\n",
       " 'reporters': 402,\n",
       " 'Iraqis': 403,\n",
       " 'surprising': 404,\n",
       " 'innovations': 405,\n",
       " 'milling': 406,\n",
       " 'drying': 407,\n",
       " 'processes': 408,\n",
       " 'needed': 409,\n",
       " 'weaponize': 410,\n",
       " 'anthrax': 411,\n",
       " 'Anything': 412,\n",
       " 'after': 413,\n",
       " '12': 414,\n",
       " 'bonus': 415,\n",
       " 'Mark': 416,\n",
       " 'last': 417,\n",
       " 'family': 418,\n",
       " 'lay': 419,\n",
       " 'Cape': 420,\n",
       " 'Ann': 421,\n",
       " 'property': 422,\n",
       " 'seemed': 423,\n",
       " 'no': 424,\n",
       " 'end': 425,\n",
       " 'stretching': 426,\n",
       " 'from': 427,\n",
       " 'horizon': 428,\n",
       " 'those': 429,\n",
       " 'golden': 430,\n",
       " 'days': 431,\n",
       " 'summer': 432,\n",
       " 'long': 433,\n",
       " 'evolution': 434,\n",
       " 'oral': 435,\n",
       " 'tradition': 436,\n",
       " 'caused': 437,\n",
       " 'poetic': 438,\n",
       " 'heroic': 439,\n",
       " 'age': 440,\n",
       " 'based': 441,\n",
       " 'formulas': 442,\n",
       " 'show': 443,\n",
       " 'important': 444,\n",
       " 'qualities': 445,\n",
       " 'therefore': 446,\n",
       " 'potentially': 447,\n",
       " 'rather': 448,\n",
       " 'than': 449,\n",
       " 'always': 450,\n",
       " 'actually': 451,\n",
       " 'accurate': 452,\n",
       " 'Status-roles': 453,\n",
       " 'two': 454,\n",
       " 'ships': 455,\n",
       " 'Disney': 456,\n",
       " 'magic': 457,\n",
       " 'wonder': 458,\n",
       " 'Meanwhile': 459,\n",
       " 'appears': 460,\n",
       " 'money': 461,\n",
       " \"road's\": 462,\n",
       " 'reserve': 463,\n",
       " 'fund': 464,\n",
       " 'cover': 465,\n",
       " 'deficiency': 466,\n",
       " 'eight': 467,\n",
       " 'more': 468,\n",
       " 'years': 469,\n",
       " 'Brandee': 470,\n",
       " 'Leads': 471,\n",
       " 'responsible': 472,\n",
       " 'Associates': 473,\n",
       " 'follows': 474,\n",
       " '\"': 475,\n",
       " '...': 476,\n",
       " 'companion': 477,\n",
       " 'quite': 478,\n",
       " 'devoted': 479,\n",
       " 'loving': 480,\n",
       " 'mesmerizing': 481,\n",
       " 'rat': 482,\n",
       " 'my': 483,\n",
       " 'psychiatrist': 484,\n",
       " 'too': 485,\n",
       " 'All': 486,\n",
       " 'best': 487,\n",
       " 'kind': 488,\n",
       " 'regards': 489,\n",
       " 'Unfortunately': 490,\n",
       " 'however': 491,\n",
       " 'reasons': 492,\n",
       " 'following': 493,\n",
       " 'chapter': 494,\n",
       " 'rate': 495,\n",
       " 'relationships': 496,\n",
       " 'completely': 497,\n",
       " 'nondiscriminatory': 498,\n",
       " 'rates': 499,\n",
       " 'must': 500,\n",
       " 'set': 501,\n",
       " 'above': 502,\n",
       " 'marginal': 503,\n",
       " 'costs': 504,\n",
       " 'order': 505,\n",
       " 'yield': 506,\n",
       " 'adequate': 507,\n",
       " 'revenues': 508,\n",
       " 'recently': 509,\n",
       " 'only': 510,\n",
       " 'Keith': 511,\n",
       " \"Wheeler's\": 512,\n",
       " 'novel': 513,\n",
       " 'Peaceable': 514,\n",
       " 'Lane': 515,\n",
       " 'openly': 516,\n",
       " 'Long-range': 517,\n",
       " 'planning': 518,\n",
       " 'programs': 519,\n",
       " 'ways': 520,\n",
       " 'finance': 521,\n",
       " 'become': 522,\n",
       " 'musts': 523,\n",
       " 'if': 524,\n",
       " 'state': 525,\n",
       " 'next': 526,\n",
       " 'few': 527,\n",
       " 'avoid': 528,\n",
       " 'crisis-to-crisis': 529,\n",
       " 'Have': 530,\n",
       " '1': 531,\n",
       " 'collage': 532,\n",
       " '!': 533,\n",
       " 'witnessing': 534,\n",
       " 'effort': 535,\n",
       " 'transfer': 536,\n",
       " 'Mr.': 537,\n",
       " 'Mitchell': 538,\n",
       " 'glow': 539,\n",
       " 'Sen.': 540,\n",
       " \"Case's\": 541,\n",
       " 'candidacy': 542,\n",
       " 'That': 543,\n",
       " 'pretty': 544,\n",
       " 'much': 545,\n",
       " 'defeats': 546,\n",
       " 'any': 547,\n",
       " 'inkling': 548,\n",
       " '*-1': 549,\n",
       " 'underprivileged': 550,\n",
       " 'child': 551,\n",
       " 'says': 552,\n",
       " 'Joe': 553,\n",
       " 'Watson': 554,\n",
       " 'prosecutor': 555,\n",
       " 'case': 556,\n",
       " '*T*-96': 557,\n",
       " 'also': 558,\n",
       " 'Greenville': 559,\n",
       " 'High': 560,\n",
       " 'School': 561,\n",
       " \"'s\": 562,\n",
       " 'alumni': 563,\n",
       " 'association': 564,\n",
       " 'Above': 565,\n",
       " 'want': 566,\n",
       " 'appear': 567,\n",
       " 'running': 568,\n",
       " 'hat': 569,\n",
       " 'hand': 570,\n",
       " 'Premier': 571,\n",
       " \"Khrushchev's\": 572,\n",
       " 'doorstep': 573,\n",
       " 'briefly': 574,\n",
       " 'topping': 575,\n",
       " 'configuration': 576,\n",
       " 'examined': 577,\n",
       " 'its': 578,\n",
       " 'inferences': 579,\n",
       " 'Only': 580,\n",
       " 'families': 581,\n",
       " 'dozen': 582,\n",
       " 'close': 583,\n",
       " 'friends': 584,\n",
       " 'present': 585,\n",
       " 'Instinctively': 586,\n",
       " 'aware': 587,\n",
       " 'charged': 588,\n",
       " 'atmosphere': 589,\n",
       " 'Poet': 590,\n",
       " 'raised': 591,\n",
       " 'his': 592,\n",
       " 'head': 593,\n",
       " 'slowly': 594,\n",
       " 'looking': 595,\n",
       " 'Elaine': 596,\n",
       " 'For': 597,\n",
       " 'thirty': 598,\n",
       " 'minutes': 599,\n",
       " 'Stanley': 600,\n",
       " 'Gilborn': 601,\n",
       " 'stood': 602,\n",
       " 'Increasing': 603,\n",
       " 'threats': 604,\n",
       " 'life': 605,\n",
       " 'finally': 606,\n",
       " 'convinced': 607,\n",
       " 'Cook': 608,\n",
       " 'leave': 609,\n",
       " 'New': 610,\n",
       " 'Mexico': 611,\n",
       " 'voice': 612,\n",
       " 'drifted': 613,\n",
       " 'me': 614,\n",
       " 'patter': 615,\n",
       " 'rain': 616,\n",
       " 'shortly': 617,\n",
       " 'fallen': 618,\n",
       " 'into': 619,\n",
       " 'fitful': 620,\n",
       " 'sleep': 621,\n",
       " 'torrent': 622,\n",
       " 'replies': 623,\n",
       " '*T*-1': 624,\n",
       " 'followed': 625,\n",
       " 'woman': 626,\n",
       " 'ringer': 627,\n",
       " 'Solihull': 628,\n",
       " 'observed': 629,\n",
       " 'average': 630,\n",
       " 'male': 631,\n",
       " 'leaves': 632,\n",
       " '*T*-2': 633,\n",
       " 'desired': 634,\n",
       " '*-141': 635,\n",
       " '*-3': 636,\n",
       " 'badly': 637,\n",
       " 'dressed': 638,\n",
       " 'decorated': 639,\n",
       " 'acne': 640,\n",
       " 'large': 641,\n",
       " 'beer-belly': 642,\n",
       " 'frequently': 643,\n",
       " 'unwashed': 644,\n",
       " 'unbearably': 645,\n",
       " 'flatulent': 646,\n",
       " 'peals': 647,\n",
       " 'Egyptians': 648,\n",
       " 'noted': 649,\n",
       " 'elusiveness': 650,\n",
       " 'vector': 651,\n",
       " 'spaces': 652,\n",
       " 'non-algebraically': 653,\n",
       " 'closed': 654,\n",
       " 'fields': 655,\n",
       " 'we': 656,\n",
       " 'still': 657,\n",
       " 'need': 658,\n",
       " 'substitute': 659,\n",
       " 'characteristic': 660,\n",
       " 'values': 661,\n",
       " 'vectors': 662,\n",
       " 'right': 663,\n",
       " 'witness': 664,\n",
       " \"brother's\": 665,\n",
       " 'humiliation': 666,\n",
       " 'It': 667,\n",
       " 'sorted': 668,\n",
       " 'hassle': 669,\n",
       " \"I'm\": 670,\n",
       " \"'m\": 671,\n",
       " 'really': 672,\n",
       " 'grateful': 673,\n",
       " 'fab': 674,\n",
       " 'Reed': 675,\n",
       " 'International': 676,\n",
       " 'PLC': 677,\n",
       " 'net': 678,\n",
       " 'income': 679,\n",
       " 'six': 680,\n",
       " 'months': 681,\n",
       " 'ended': 682,\n",
       " 'Oct.': 683,\n",
       " 'slipped': 684,\n",
       " '5': 685,\n",
       " '%': 686,\n",
       " '#': 687,\n",
       " '89.7': 688,\n",
       " 'million': 689,\n",
       " '*U*': 690,\n",
       " '-LRB-': 691,\n",
       " '$': 692,\n",
       " '141.9': 693,\n",
       " '-RRB-': 694,\n",
       " '16': 695,\n",
       " 'pence': 696,\n",
       " 'share': 697,\n",
       " '94.8': 698,\n",
       " '149.9': 699,\n",
       " '17.3': 700,\n",
       " 'study': 701,\n",
       " 'Greek': 702,\n",
       " 'distinctive': 703,\n",
       " 'mark': 704,\n",
       " 'boys': 705,\n",
       " 'destined': 706,\n",
       " 'college': 707,\n",
       " 'Lucy': 708,\n",
       " 'Upton': 709,\n",
       " 'expected': 710,\n",
       " 'take': 711,\n",
       " 'course': 712,\n",
       " 'offered': 713,\n",
       " 'men': 714,\n",
       " 'Hirey': 715,\n",
       " 'treats': 716,\n",
       " 'himself': 717,\n",
       " 'prisoners': 718,\n",
       " 'steered': 719,\n",
       " 'track': 720,\n",
       " 'free': 721,\n",
       " 'enterprise': 722,\n",
       " 'farm': 723,\n",
       " 'equipment': 724,\n",
       " 'shipments': 725,\n",
       " 'Harvester': 726,\n",
       " 'August': 727,\n",
       " 'climbed': 728,\n",
       " '5%': 729,\n",
       " 'Keeler': 730,\n",
       " 'reports': 731,\n",
       " 'people': 732,\n",
       " 'wanting': 733,\n",
       " 'rent': 734,\n",
       " 'cars': 735,\n",
       " 'going': 736,\n",
       " 'do-it-yourself': 737,\n",
       " 'plan': 738,\n",
       " 'look': 739,\n",
       " 'give': 740,\n",
       " 'update': 741,\n",
       " 'till': 742,\n",
       " 'get': 743,\n",
       " 'foregoing': 744,\n",
       " 'remarks': 745,\n",
       " 'imply': 746,\n",
       " 'hypothalamic': 747,\n",
       " 'plays': 748,\n",
       " 'crucial': 749,\n",
       " 'role': 750,\n",
       " 'crossroads': 751,\n",
       " 'between': 752,\n",
       " 'physiological': 753,\n",
       " 'pathological': 754,\n",
       " 'forms': 755,\n",
       " 'emotion': 756,\n",
       " 'Does': 757,\n",
       " 'employ': 758,\n",
       " 'crude': 759,\n",
       " 'tactics': 760,\n",
       " 'such': 761,\n",
       " 'means': 762,\n",
       " 'anonymous': 763,\n",
       " 'telephone': 764,\n",
       " 'calls': 765,\n",
       " 'letter': 766,\n",
       " 'writing': 767,\n",
       " 'campaigns': 768,\n",
       " 'Anthony': 769,\n",
       " 'William': 770,\n",
       " 'confide': 771,\n",
       " 'consult': 772,\n",
       " \"I've\": 773,\n",
       " \"'ve\": 774,\n",
       " 'thought': 775,\n",
       " 'times': 776,\n",
       " \"didn't\": 777,\n",
       " 'intrude': 778,\n",
       " 'already': 779,\n",
       " 'bad': 780,\n",
       " 'situation': 781,\n",
       " 'bullshit': 782,\n",
       " 'questions': 783,\n",
       " 'kebab': 784,\n",
       " 'shop': 785,\n",
       " 'around': 786,\n",
       " 'meat': 787,\n",
       " 'good': 788,\n",
       " 'fresh': 789,\n",
       " 'chilly': 790,\n",
       " 'sauce': 791,\n",
       " 'lovely': 792,\n",
       " 'kebabs': 793,\n",
       " 'coming': 794,\n",
       " 'happy': 795,\n",
       " 'staff': 796,\n",
       " 'Not': 797,\n",
       " 'contestants': 798,\n",
       " 'pleased': 799,\n",
       " 'Class': 800,\n",
       " 'aroused': 801,\n",
       " 'attendance': 802,\n",
       " 'Piepsam': 803,\n",
       " 'certainly': 804,\n",
       " 'religious': 805,\n",
       " 'conventional': 806,\n",
       " 'sense': 807,\n",
       " 'As': 808,\n",
       " 'markets': 809,\n",
       " 'larger': 810,\n",
       " 'marketing': 811,\n",
       " 'complex': 812,\n",
       " 'error': 813,\n",
       " 'progressively': 814,\n",
       " \"isn't\": 815,\n",
       " 'TGIF': 816,\n",
       " 'Cafe': 817,\n",
       " 's': 818,\n",
       " 'lunch': 819,\n",
       " 'sandwich': 820,\n",
       " 'foreign-entry-limit': 821,\n",
       " 'would': 822,\n",
       " 'rapidly': 823,\n",
       " 'since': 824,\n",
       " 'domestic': 825,\n",
       " 'wage-rates': 826,\n",
       " 'enter': 827,\n",
       " 'foreign': 828,\n",
       " 'directly': 829,\n",
       " 'Jesus': 830,\n",
       " 'answering': 831,\n",
       " 'unto': 832,\n",
       " 'Suffer': 833,\n",
       " 'thus': 834,\n",
       " 'becometh': 835,\n",
       " 'us': 836,\n",
       " 'fulfill': 837,\n",
       " 'righteousness': 838,\n",
       " 'Protection': 839,\n",
       " 'http://www.flickr.com/photos/adamtolle/6094960940/in/set-72157627535453128/': 840,\n",
       " 'Yet': 841,\n",
       " 'Morris': 842,\n",
       " 'Manderscheid': 843,\n",
       " 'bankrupt': 844,\n",
       " 'ideas': 845,\n",
       " 'China': 846,\n",
       " 'been': 847,\n",
       " 'getting': 848,\n",
       " 'North': 849,\n",
       " 'Korea': 850,\n",
       " 'table': 851,\n",
       " 'Bush': 852,\n",
       " 'hoping': 853,\n",
       " 'cooperation': 854,\n",
       " 'nuclear': 855,\n",
       " 'peninsula': 856,\n",
       " 'obvious': 857,\n",
       " 'historian': 858,\n",
       " 'seeks': 859,\n",
       " 'recapture': 860,\n",
       " 'motivated': 861,\n",
       " 'human': 862,\n",
       " 'behavior': 863,\n",
       " 'throughout': 864,\n",
       " 'given': 865,\n",
       " 'period': 866,\n",
       " 'art': 867,\n",
       " 'literature': 868,\n",
       " 'central': 869,\n",
       " 'major': 870,\n",
       " 'concerns': 871,\n",
       " 'mere': 872,\n",
       " 'supplement': 873,\n",
       " 'adjunct': 874,\n",
       " 'significant': 875,\n",
       " 'historical': 876,\n",
       " 'research': 877,\n",
       " 'country': 878,\n",
       " 'lasts': 879,\n",
       " 'minimum': 880,\n",
       " '6': 881,\n",
       " 'aground': 882,\n",
       " 'world': 883,\n",
       " 'what': 884,\n",
       " 'medical': 885,\n",
       " 'school': 886,\n",
       " 'Experimentally': 887,\n",
       " 'expect': 888,\n",
       " 'independence': 889,\n",
       " 'when': 890,\n",
       " 'trials': 891,\n",
       " 'nothing': 892,\n",
       " 'another': 893,\n",
       " 'western': 894,\n",
       " 'pleasure': 895,\n",
       " 'appy': 896,\n",
       " 'thats': 897,\n",
       " 'heavy': 898,\n",
       " 'left': 899,\n",
       " 'lead': 900,\n",
       " 'lope': 901,\n",
       " 'Cafes': 902,\n",
       " 'restaurants': 903,\n",
       " 'rarely': 904,\n",
       " 'same': 905,\n",
       " 'cutlery': 906,\n",
       " 'different': 907,\n",
       " 'food': 908,\n",
       " 'groups': 909,\n",
       " 'anyway': 910,\n",
       " 'normally': 911,\n",
       " 'blue': 912,\n",
       " 'bakery': 913,\n",
       " 'items': 914,\n",
       " 'red': 915,\n",
       " 'cooked': 916,\n",
       " 'raw': 917,\n",
       " 'etc': 918,\n",
       " 'preparation': 919,\n",
       " 'hygiene': 920,\n",
       " 'policies': 921,\n",
       " 'On': 922,\n",
       " 'Brumidi': 923,\n",
       " 'Liberty': 924,\n",
       " 'group': 925,\n",
       " 'looked': 926,\n",
       " 'cleaning': 927,\n",
       " 'operations': 928,\n",
       " 'yet': 929,\n",
       " 'come': 930,\n",
       " 'To': 931,\n",
       " 'see': 932,\n",
       " 'vision': 933,\n",
       " 'perspective': 934,\n",
       " 'clear': 935,\n",
       " 'idea': 936,\n",
       " 'magnitude': 937,\n",
       " 'atom': 938,\n",
       " 'hate': 939,\n",
       " 'embarrassing': 940,\n",
       " 'silences': 941,\n",
       " 'make': 942,\n",
       " 'fool': 943,\n",
       " 'myself': 944,\n",
       " 'just': 945,\n",
       " 'prevent': 946,\n",
       " 'addition': 947,\n",
       " 'Dr.': 948,\n",
       " 'Clark': 949,\n",
       " 'studied': 950,\n",
       " 'Rhode': 951,\n",
       " 'Island': 952,\n",
       " 'State': 953,\n",
       " 'College': 954,\n",
       " 'Massachusetts': 955,\n",
       " 'Institute': 956,\n",
       " 'Technology': 957,\n",
       " 'paid': 958,\n",
       " 'brief': 959,\n",
       " 'visit': 960,\n",
       " 'Frick': 961,\n",
       " 'Collection': 962,\n",
       " 'admire': 963,\n",
       " 'favorite': 964,\n",
       " 'paintings': 965,\n",
       " 'Rembrandt': 966,\n",
       " 'Franz': 967,\n",
       " 'Hals': 968,\n",
       " \"Posada's\": 969,\n",
       " 'Posada': 970,\n",
       " 'crimes': 971,\n",
       " 'seem': 972,\n",
       " 'ancient': 973,\n",
       " 'history': 974,\n",
       " 'especially': 975,\n",
       " \"don't\": 976,\n",
       " 'know': 977,\n",
       " 'conceived': 978,\n",
       " 'leave-taking': 979,\n",
       " 'melancholy': 980,\n",
       " 'gathering-in': 981,\n",
       " 'myths': 982,\n",
       " 'West': 983,\n",
       " 'bevor': 984,\n",
       " 'die': 985,\n",
       " 'Nacht': 986,\n",
       " 'sinkt': 987,\n",
       " 'eine': 988,\n",
       " 'lange': 989,\n",
       " 'vielleicht': 990,\n",
       " 'und': 991,\n",
       " 'ein': 992,\n",
       " 'tiefes': 993,\n",
       " 'Vergessen': 994,\n",
       " 'Carbondale': 995,\n",
       " 'Herrin-Murphysboro-West': 996,\n",
       " 'Frankfort': 997,\n",
       " 'labor': 998,\n",
       " 'market': 999,\n",
       " ...}"
      ]
     },
     "execution_count": 9,
     "metadata": {},
     "output_type": "execute_result"
    }
   ],
   "source": [
    "vocab2idx"
   ]
  },
  {
   "cell_type": "code",
   "execution_count": 10,
   "metadata": {},
   "outputs": [
    {
     "data": {
      "text/plain": [
       "58110"
      ]
     },
     "execution_count": 10,
     "metadata": {},
     "output_type": "execute_result"
    }
   ],
   "source": [
    "len(vocab2idx)"
   ]
  },
  {
   "cell_type": "code",
   "execution_count": 11,
   "metadata": {},
   "outputs": [
    {
     "data": {
      "text/plain": [
       "0"
      ]
     },
     "execution_count": 11,
     "metadata": {},
     "output_type": "execute_result"
    }
   ],
   "source": [
    "vocab2idx['03/01/2001']"
   ]
  },
  {
   "cell_type": "code",
   "execution_count": 12,
   "metadata": {},
   "outputs": [
    {
     "data": {
      "text/plain": [
       "21"
      ]
     },
     "execution_count": 12,
     "metadata": {},
     "output_type": "execute_result"
    }
   ],
   "source": [
    "len(tag2idx)"
   ]
  },
  {
   "cell_type": "code",
   "execution_count": 13,
   "metadata": {},
   "outputs": [
    {
     "data": {
      "text/plain": [
       "3"
      ]
     },
     "execution_count": 13,
     "metadata": {},
     "output_type": "execute_result"
    }
   ],
   "source": [
    "tag2idx['DET']"
   ]
  },
  {
   "cell_type": "code",
   "execution_count": 14,
   "metadata": {},
   "outputs": [],
   "source": [
    "import matplotlib.pyplot as plt"
   ]
  },
  {
   "cell_type": "code",
   "execution_count": 15,
   "metadata": {},
   "outputs": [
    {
     "data": {
      "image/png": "[encoded data removed]",
      "text/plain": [
       "<Figure size 640x480 with 1 Axes>"
      ]
     },
     "metadata": {},
     "output_type": "display_data"
    }
   ],
   "source": [
    "plt.bar(tag_cnt.keys(), tag_cnt.values(), width=0.5, color='b')  \n",
    "plt.xticks(rotation=45, ha='right') \n",
    "plt.xlabel(\"Tags\")\n",
    "plt.ylabel(\"Count\")\n",
    "plt.title(\"Tag Frequency Distribution\")\n",
    "plt.show()"
   ]
  },
  {
   "cell_type": "code",
   "execution_count": 175,
   "metadata": {},
   "outputs": [],
   "source": [
    "column_name = df_train.columns[0]\n",
    "\n",
    "train_set = set(df_train[column_name].apply(tuple))\n",
    "test_set = set(df_test[column_name].apply(tuple))\n",
    "\n",
    "sim_rows = train_set.intersection(test_set)\n",
    "sim_cnt = len(sim_rows)\n",
    "test_rows = len(df_test)\n",
    "uniq_cnt = test_rows - sim_cnt\n",
    "\n",
    "s_pcnt = (sim_cnt / test_rows) * 100\n",
    "u_pcnt = 100 - s_pcnt\n",
    "\n",
    "df_test_2 = df_test[~df_test[column_name].isin(df_train[column_name])].reset_index(drop=True)\n",
    "\n"
   ]
  },
  {
   "cell_type": "code",
   "execution_count": 176,
   "metadata": {},
   "outputs": [
    {
     "data": {
      "text/plain": [
       "12637"
      ]
     },
     "execution_count": 176,
     "metadata": {},
     "output_type": "execute_result"
    }
   ],
   "source": [
    "len(df_test_2)"
   ]
  },
  {
   "cell_type": "code",
   "execution_count": 199,
   "metadata": {},
   "outputs": [
    {
     "name": "stdout",
     "output_type": "stream",
     "text": [
      "<class 'str'>\n"
     ]
    }
   ],
   "source": [
    "for row in df_test_2:\n",
    "    print(type(row))"
   ]
  },
  {
   "cell_type": "code",
   "execution_count": 177,
   "metadata": {},
   "outputs": [
    {
     "data": {
      "image/png": "[encoded data removed]",
      "text/plain": [
       "<Figure size 1200x500 with 2 Axes>"
      ]
     },
     "metadata": {},
     "output_type": "display_data"
    }
   ],
   "source": [
    "fig, axes = plt.subplots(1, 2, figsize=(12, 5))\n",
    "\n",
    "axes[0].bar([\"Similar\", \"Unique\"], [sim_cnt, uniq_cnt], color=[\"red\", \"blue\"])\n",
    "axes[0].set_ylabel(\"Count\")\n",
    "axes[0].set_title(\"Count of Similar vs Unique Rows in train and test\")\n",
    "\n",
    "axes[1].bar([\"Similar\", \"Unique\"], [s_pcnt, u_pcnt], color=[\"red\", \"blue\"])\n",
    "axes[1].set_ylabel(\"Percentage\")\n",
    "axes[1].set_title(\"Percentage of Similar vs Unique Rows in train and test\")\n",
    "\n",
    "plt.tight_layout()\n",
    "plt.show()"
   ]
  },
  {
   "cell_type": "code",
   "execution_count": 21,
   "metadata": {},
   "outputs": [],
   "source": [
    "idx =0\n",
    "idx1=1\n",
    "vocab2idxt ={}\n",
    "tag2idxt={}\n",
    "for doc in df_test.iloc[0:-1,0]:\n",
    "    words = eval(doc)\n",
    "    for word,tag in words:\n",
    "        if word not in vocab2idx:\n",
    "            vocab2idxt[str(word)]=idx\n",
    "            idx+=1\n",
    "        if tag not in tag2idx:\n",
    "            tag2idxt[tag]=idx1\n",
    "            idx1+=1"
   ]
  },
  {
   "cell_type": "code",
   "execution_count": 22,
   "metadata": {},
   "outputs": [
    {
     "data": {
      "text/plain": [
       "{}"
      ]
     },
     "execution_count": 22,
     "metadata": {},
     "output_type": "execute_result"
    }
   ],
   "source": [
    "tag2idxt"
   ]
  },
  {
   "cell_type": "code",
   "execution_count": 23,
   "metadata": {},
   "outputs": [
    {
     "data": {
      "text/plain": [
       "6612"
      ]
     },
     "execution_count": 23,
     "metadata": {},
     "output_type": "execute_result"
    }
   ],
   "source": [
    "len(vocab2idxt)"
   ]
  },
  {
   "cell_type": "code",
   "execution_count": 146,
   "metadata": {},
   "outputs": [],
   "source": [
    "same_v= len(vocab2idx)\n",
    "total_v = len(vocab2idx)+len(vocab2idxt)\n",
    "sm_pcnt = same_v*100/total_v\n",
    "diff_pcnt= 100 - sm_pcnt"
   ]
  },
  {
   "cell_type": "code",
   "execution_count": 150,
   "metadata": {},
   "outputs": [
    {
     "data": {
      "image/png": "[encoded data removed]",
      "text/plain": [
       "<Figure size 1200x500 with 2 Axes>"
      ]
     },
     "metadata": {},
     "output_type": "display_data"
    }
   ],
   "source": [
    "fig, axes = plt.subplots(1, 2, figsize=(12, 5))\n",
    "\n",
    "axes[0].bar([\"Same\", \"Different\"], [same_v, len(vocab2idxt)], color=[\"grey\", \"brown\"])\n",
    "axes[0].set_ylabel(\"Count\")\n",
    "axes[0].set_title(\"Count of Same vs Different vocabs in train and test\")\n",
    "\n",
    "axes[1].bar([\"Same\", \"Different\"], [sm_pcnt, diff_pcnt], color=[\"grey\", \"brown\"])\n",
    "axes[1].set_ylabel(\"Percentage\")\n",
    "axes[1].set_title(\"Percentage of Same vs Different vocabs in train and test\")\n",
    "\n",
    "plt.tight_layout()\n",
    "plt.show()"
   ]
  },
  {
   "cell_type": "code",
   "execution_count": 178,
   "metadata": {},
   "outputs": [
    {
     "data": {
      "text/html": [
       "<div>\n",
       "<style scoped>\n",
       "    .dataframe tbody tr th:only-of-type {\n",
       "        vertical-align: middle;\n",
       "    }\n",
       "\n",
       "    .dataframe tbody tr th {\n",
       "        vertical-align: top;\n",
       "    }\n",
       "\n",
       "    .dataframe thead th {\n",
       "        text-align: right;\n",
       "    }\n",
       "</style>\n",
       "<table border=\"1\" class=\"dataframe\">\n",
       "  <thead>\n",
       "    <tr style=\"text-align: right;\">\n",
       "      <th></th>\n",
       "      <th>[('DF', 'PROPN')]</th>\n",
       "    </tr>\n",
       "  </thead>\n",
       "  <tbody>\n",
       "    <tr>\n",
       "      <th>0</th>\n",
       "      <td>[('``', '.'), ('E', 'NOUN'), (\"''\", '.'), ('st...</td>\n",
       "    </tr>\n",
       "    <tr>\n",
       "      <th>1</th>\n",
       "      <td>[('He', 'PRON'), ('hoped', 'VERB'), ('they', '...</td>\n",
       "    </tr>\n",
       "    <tr>\n",
       "      <th>2</th>\n",
       "      <td>[('To', 'PRT'), ('determine', 'VERB'), ('the',...</td>\n",
       "    </tr>\n",
       "    <tr>\n",
       "      <th>3</th>\n",
       "      <td>[('By', 'ADP'), ('both', 'DET'), ('standards',...</td>\n",
       "    </tr>\n",
       "    <tr>\n",
       "      <th>4</th>\n",
       "      <td>[('Mr.', 'PROPN'), ('Sonnett', 'PROPN'), ('sai...</td>\n",
       "    </tr>\n",
       "    <tr>\n",
       "      <th>...</th>\n",
       "      <td>...</td>\n",
       "    </tr>\n",
       "    <tr>\n",
       "      <th>12632</th>\n",
       "      <td>[('Thus', 'ADV'), (',', '.'), ('paradoxically'...</td>\n",
       "    </tr>\n",
       "    <tr>\n",
       "      <th>12633</th>\n",
       "      <td>[('Someone', 'NOUN'), ('reasonably', 'ADV'), (...</td>\n",
       "    </tr>\n",
       "    <tr>\n",
       "      <th>12634</th>\n",
       "      <td>[('During', 'ADP'), ('this', 'DET'), ('search'...</td>\n",
       "    </tr>\n",
       "    <tr>\n",
       "      <th>12635</th>\n",
       "      <td>[('Thank', 'VERB'), ('you', 'PRON'), ('for', '...</td>\n",
       "    </tr>\n",
       "    <tr>\n",
       "      <th>12636</th>\n",
       "      <td>[(\"Today's\", 'NOUN'), ('earthquakes', 'NOUN'),...</td>\n",
       "    </tr>\n",
       "  </tbody>\n",
       "</table>\n",
       "<p>12637 rows × 1 columns</p>\n",
       "</div>"
      ],
      "text/plain": [
       "                                       [('DF', 'PROPN')]\n",
       "0      [('``', '.'), ('E', 'NOUN'), (\"''\", '.'), ('st...\n",
       "1      [('He', 'PRON'), ('hoped', 'VERB'), ('they', '...\n",
       "2      [('To', 'PRT'), ('determine', 'VERB'), ('the',...\n",
       "3      [('By', 'ADP'), ('both', 'DET'), ('standards',...\n",
       "4      [('Mr.', 'PROPN'), ('Sonnett', 'PROPN'), ('sai...\n",
       "...                                                  ...\n",
       "12632  [('Thus', 'ADV'), (',', '.'), ('paradoxically'...\n",
       "12633  [('Someone', 'NOUN'), ('reasonably', 'ADV'), (...\n",
       "12634  [('During', 'ADP'), ('this', 'DET'), ('search'...\n",
       "12635  [('Thank', 'VERB'), ('you', 'PRON'), ('for', '...\n",
       "12636  [(\"Today's\", 'NOUN'), ('earthquakes', 'NOUN'),...\n",
       "\n",
       "[12637 rows x 1 columns]"
      ]
     },
     "execution_count": 178,
     "metadata": {},
     "output_type": "execute_result"
    }
   ],
   "source": [
    "df_test_2"
   ]
  },
  {
   "cell_type": "code",
   "execution_count": 203,
   "metadata": {},
   "outputs": [
    {
     "name": "stderr",
     "output_type": "stream",
     "text": [
      "C:\\Users\\ASUS\\AppData\\Local\\Temp\\ipykernel_7920\\3896624903.py:3: FutureWarning: Series.__getitem__ treating keys as positions is deprecated. In a future version, integer keys will always be treated as labels (consistent with DataFrame behavior). To access a value by position, use `ser.iloc[pos]`\n",
      "  words = eval(row[0])\n"
     ]
    }
   ],
   "source": [
    "filtered_lists = []\n",
    "for index, row in df_test_2.iterrows():\n",
    "    words = eval(row[0])\n",
    "    filtered_words = [(word, tag) for word, tag in words if word in vocab2idx]\n",
    "    filtered_lists.append(str(filtered_words))\n",
    "\n",
    "df_test_3 = pd.DataFrame({\"filtered_sentences\": filtered_lists})\n",
    "\n"
   ]
  },
  {
   "cell_type": "code",
   "execution_count": 204,
   "metadata": {},
   "outputs": [
    {
     "data": {
      "text/html": [
       "<div>\n",
       "<style scoped>\n",
       "    .dataframe tbody tr th:only-of-type {\n",
       "        vertical-align: middle;\n",
       "    }\n",
       "\n",
       "    .dataframe tbody tr th {\n",
       "        vertical-align: top;\n",
       "    }\n",
       "\n",
       "    .dataframe thead th {\n",
       "        text-align: right;\n",
       "    }\n",
       "</style>\n",
       "<table border=\"1\" class=\"dataframe\">\n",
       "  <thead>\n",
       "    <tr style=\"text-align: right;\">\n",
       "      <th></th>\n",
       "      <th>filtered_sentences</th>\n",
       "    </tr>\n",
       "  </thead>\n",
       "  <tbody>\n",
       "    <tr>\n",
       "      <th>0</th>\n",
       "      <td>[('``', '.'), ('E', 'NOUN'), (\"''\", '.'), ('st...</td>\n",
       "    </tr>\n",
       "    <tr>\n",
       "      <th>1</th>\n",
       "      <td>[('He', 'PRON'), ('hoped', 'VERB'), ('they', '...</td>\n",
       "    </tr>\n",
       "    <tr>\n",
       "      <th>2</th>\n",
       "      <td>[('To', 'PRT'), ('determine', 'VERB'), ('the',...</td>\n",
       "    </tr>\n",
       "    <tr>\n",
       "      <th>3</th>\n",
       "      <td>[('By', 'ADP'), ('both', 'DET'), ('standards',...</td>\n",
       "    </tr>\n",
       "    <tr>\n",
       "      <th>4</th>\n",
       "      <td>[('Mr.', 'PROPN'), ('Sonnett', 'PROPN'), ('sai...</td>\n",
       "    </tr>\n",
       "    <tr>\n",
       "      <th>...</th>\n",
       "      <td>...</td>\n",
       "    </tr>\n",
       "    <tr>\n",
       "      <th>12632</th>\n",
       "      <td>[('Thus', 'ADV'), (',', '.'), ('paradoxically'...</td>\n",
       "    </tr>\n",
       "    <tr>\n",
       "      <th>12633</th>\n",
       "      <td>[('Someone', 'NOUN'), ('reasonably', 'ADV'), (...</td>\n",
       "    </tr>\n",
       "    <tr>\n",
       "      <th>12634</th>\n",
       "      <td>[('During', 'ADP'), ('this', 'DET'), ('search'...</td>\n",
       "    </tr>\n",
       "    <tr>\n",
       "      <th>12635</th>\n",
       "      <td>[('Thank', 'VERB'), ('you', 'PRON'), ('for', '...</td>\n",
       "    </tr>\n",
       "    <tr>\n",
       "      <th>12636</th>\n",
       "      <td>[(\"Today's\", 'NOUN'), ('earthquakes', 'NOUN'),...</td>\n",
       "    </tr>\n",
       "  </tbody>\n",
       "</table>\n",
       "<p>12637 rows × 1 columns</p>\n",
       "</div>"
      ],
      "text/plain": [
       "                                      filtered_sentences\n",
       "0      [('``', '.'), ('E', 'NOUN'), (\"''\", '.'), ('st...\n",
       "1      [('He', 'PRON'), ('hoped', 'VERB'), ('they', '...\n",
       "2      [('To', 'PRT'), ('determine', 'VERB'), ('the',...\n",
       "3      [('By', 'ADP'), ('both', 'DET'), ('standards',...\n",
       "4      [('Mr.', 'PROPN'), ('Sonnett', 'PROPN'), ('sai...\n",
       "...                                                  ...\n",
       "12632  [('Thus', 'ADV'), (',', '.'), ('paradoxically'...\n",
       "12633  [('Someone', 'NOUN'), ('reasonably', 'ADV'), (...\n",
       "12634  [('During', 'ADP'), ('this', 'DET'), ('search'...\n",
       "12635  [('Thank', 'VERB'), ('you', 'PRON'), ('for', '...\n",
       "12636  [(\"Today's\", 'NOUN'), ('earthquakes', 'NOUN'),...\n",
       "\n",
       "[12637 rows x 1 columns]"
      ]
     },
     "execution_count": 204,
     "metadata": {},
     "output_type": "execute_result"
    }
   ],
   "source": [
    "df_test_3"
   ]
  },
  {
   "cell_type": "code",
   "execution_count": 207,
   "metadata": {},
   "outputs": [
    {
     "name": "stdout",
     "output_type": "stream",
     "text": [
      "<class 'str'>\n"
     ]
    }
   ],
   "source": [
    "for row in df_test_3:\n",
    "    print(type(row))"
   ]
  },
  {
   "cell_type": "code",
   "execution_count": 208,
   "metadata": {},
   "outputs": [],
   "source": [
    "em=np.zeros((len(vocab2idx),len(tag2idx)+1)) "
   ]
  },
  {
   "cell_type": "code",
   "execution_count": 210,
   "metadata": {},
   "outputs": [
    {
     "data": {
      "text/plain": [
       "{'NUM': 1,\n",
       " 'NOUN': 2,\n",
       " 'DET': 3,\n",
       " 'VERB': 4,\n",
       " 'ADJ': 5,\n",
       " '.': 6,\n",
       " 'PUNCT': 7,\n",
       " 'ADP': 8,\n",
       " 'CONJ': 9,\n",
       " 'PROPN': 10,\n",
       " 'X': 11,\n",
       " 'PRON': 12,\n",
       " 'ADV': 13,\n",
       " 'AUX': 14,\n",
       " 'INTJ': 15,\n",
       " 'CCONJ': 16,\n",
       " 'PRT': 17,\n",
       " 'PART': 18,\n",
       " 'SCONJ': 19,\n",
       " '_': 20,\n",
       " 'SYM': 21}"
      ]
     },
     "execution_count": 210,
     "metadata": {},
     "output_type": "execute_result"
    }
   ],
   "source": [
    "tag2idx"
   ]
  },
  {
   "cell_type": "code",
   "execution_count": 211,
   "metadata": {},
   "outputs": [],
   "source": [
    "idx2vocab = {i:v for v,i in vocab2idx.items()}\n",
    "idx2tag = {id:t for t,id in tag2idx.items()}\n"
   ]
  },
  {
   "cell_type": "code",
   "execution_count": 212,
   "metadata": {},
   "outputs": [
    {
     "data": {
      "text/plain": [
       "'The'"
      ]
     },
     "execution_count": 212,
     "metadata": {},
     "output_type": "execute_result"
    }
   ],
   "source": [
    "idx2vocab[3]"
   ]
  },
  {
   "cell_type": "code",
   "execution_count": 213,
   "metadata": {},
   "outputs": [
    {
     "data": {
      "text/plain": [
       "array([[0., 0., 0., 0., 0., 0., 0., 0., 0., 0., 0., 0., 0., 0., 0., 0.,\n",
       "        0., 0., 0., 0., 0., 0.],\n",
       "       [0., 0., 0., 0., 0., 0., 0., 0., 0., 0., 0., 0., 0., 0., 0., 0.,\n",
       "        0., 0., 0., 0., 0., 0.],\n",
       "       [0., 0., 0., 0., 0., 0., 0., 0., 0., 0., 0., 0., 0., 0., 0., 0.,\n",
       "        0., 0., 0., 0., 0., 0.],\n",
       "       [0., 0., 0., 0., 0., 0., 0., 0., 0., 0., 0., 0., 0., 0., 0., 0.,\n",
       "        0., 0., 0., 0., 0., 0.],\n",
       "       [0., 0., 0., 0., 0., 0., 0., 0., 0., 0., 0., 0., 0., 0., 0., 0.,\n",
       "        0., 0., 0., 0., 0., 0.],\n",
       "       [0., 0., 0., 0., 0., 0., 0., 0., 0., 0., 0., 0., 0., 0., 0., 0.,\n",
       "        0., 0., 0., 0., 0., 0.],\n",
       "       [0., 0., 0., 0., 0., 0., 0., 0., 0., 0., 0., 0., 0., 0., 0., 0.,\n",
       "        0., 0., 0., 0., 0., 0.],\n",
       "       [0., 0., 0., 0., 0., 0., 0., 0., 0., 0., 0., 0., 0., 0., 0., 0.,\n",
       "        0., 0., 0., 0., 0., 0.],\n",
       "       [0., 0., 0., 0., 0., 0., 0., 0., 0., 0., 0., 0., 0., 0., 0., 0.,\n",
       "        0., 0., 0., 0., 0., 0.],\n",
       "       [0., 0., 0., 0., 0., 0., 0., 0., 0., 0., 0., 0., 0., 0., 0., 0.,\n",
       "        0., 0., 0., 0., 0., 0.],\n",
       "       [0., 0., 0., 0., 0., 0., 0., 0., 0., 0., 0., 0., 0., 0., 0., 0.,\n",
       "        0., 0., 0., 0., 0., 0.],\n",
       "       [0., 0., 0., 0., 0., 0., 0., 0., 0., 0., 0., 0., 0., 0., 0., 0.,\n",
       "        0., 0., 0., 0., 0., 0.],\n",
       "       [0., 0., 0., 0., 0., 0., 0., 0., 0., 0., 0., 0., 0., 0., 0., 0.,\n",
       "        0., 0., 0., 0., 0., 0.],\n",
       "       [0., 0., 0., 0., 0., 0., 0., 0., 0., 0., 0., 0., 0., 0., 0., 0.,\n",
       "        0., 0., 0., 0., 0., 0.],\n",
       "       [0., 0., 0., 0., 0., 0., 0., 0., 0., 0., 0., 0., 0., 0., 0., 0.,\n",
       "        0., 0., 0., 0., 0., 0.],\n",
       "       [0., 0., 0., 0., 0., 0., 0., 0., 0., 0., 0., 0., 0., 0., 0., 0.,\n",
       "        0., 0., 0., 0., 0., 0.],\n",
       "       [0., 0., 0., 0., 0., 0., 0., 0., 0., 0., 0., 0., 0., 0., 0., 0.,\n",
       "        0., 0., 0., 0., 0., 0.],\n",
       "       [0., 0., 0., 0., 0., 0., 0., 0., 0., 0., 0., 0., 0., 0., 0., 0.,\n",
       "        0., 0., 0., 0., 0., 0.],\n",
       "       [0., 0., 0., 0., 0., 0., 0., 0., 0., 0., 0., 0., 0., 0., 0., 0.,\n",
       "        0., 0., 0., 0., 0., 0.],\n",
       "       [0., 0., 0., 0., 0., 0., 0., 0., 0., 0., 0., 0., 0., 0., 0., 0.,\n",
       "        0., 0., 0., 0., 0., 0.],\n",
       "       [0., 0., 0., 0., 0., 0., 0., 0., 0., 0., 0., 0., 0., 0., 0., 0.,\n",
       "        0., 0., 0., 0., 0., 0.],\n",
       "       [0., 0., 0., 0., 0., 0., 0., 0., 0., 0., 0., 0., 0., 0., 0., 0.,\n",
       "        0., 0., 0., 0., 0., 0.]])"
      ]
     },
     "execution_count": 213,
     "metadata": {},
     "output_type": "execute_result"
    }
   ],
   "source": [
    "tm= np.zeros((len(tag2idx)+1,len(tag2idx)+1)) #+1 where 0 is start\n",
    "tm"
   ]
  },
  {
   "cell_type": "code",
   "execution_count": 214,
   "metadata": {},
   "outputs": [
    {
     "data": {
      "text/plain": [
       "(22, 22)"
      ]
     },
     "execution_count": 214,
     "metadata": {},
     "output_type": "execute_result"
    }
   ],
   "source": [
    "tm.shape"
   ]
  },
  {
   "cell_type": "code",
   "execution_count": 215,
   "metadata": {},
   "outputs": [],
   "source": [
    "#now i want to find out how many times the row item appeared before the column item\n",
    "for row in df_train.iloc[0:-1,0]:\n",
    "    rowl = eval(row)\n",
    "    for j in range(len(rowl)):\n",
    "        if j!=0:\n",
    "            _,tag1=rowl[j]\n",
    "            _,tag2= rowl[j-1]\n",
    "            t= tag2idx[tag1]\n",
    "            tb= tag2idx[tag2]\n",
    "            tm[tb,t]+=1\n",
    "        if j==0:\n",
    "            _,tag3=rowl[j]\n",
    "            ts= tag2idx[tag3]\n",
    "            tm[0,ts]+=1"
   ]
  },
  {
   "cell_type": "code",
   "execution_count": 217,
   "metadata": {},
   "outputs": [],
   "source": [
    "row_sums = np.sum(tm, axis=1, keepdims=True) "
   ]
  },
  {
   "cell_type": "code",
   "execution_count": 219,
   "metadata": {},
   "outputs": [],
   "source": [
    "row_sums[row_sums == 0] = 1"
   ]
  },
  {
   "cell_type": "code",
   "execution_count": 220,
   "metadata": {},
   "outputs": [],
   "source": [
    "tm_p = tm/row_sums"
   ]
  },
  {
   "cell_type": "code",
   "execution_count": 221,
   "metadata": {},
   "outputs": [
    {
     "data": {
      "text/plain": [
       "array([[0.00000000e+00, 2.26865785e-02, 1.23985676e-01, 1.98979009e-01,\n",
       "        4.92018744e-02, 4.16206332e-02, 4.42112080e-02, 9.69560745e-03,\n",
       "        1.12461427e-01, 3.70109337e-02, 4.11444245e-02, 5.96213189e-03,\n",
       "        1.61377576e-01, 8.52603909e-02, 6.53358223e-03, 8.53365843e-03,\n",
       "        5.40972989e-03, 2.36580441e-02, 1.33338413e-03, 8.66699684e-03,\n",
       "        1.05527830e-02, 1.71435102e-03],\n",
       "       [0.00000000e+00, 5.37976548e-02, 3.63679217e-01, 1.06063284e-02,\n",
       "        3.56490484e-02, 5.03211361e-02, 1.86023216e-01, 6.58181604e-02,\n",
       "        1.08891639e-01, 2.65747452e-02, 1.11955689e-02, 3.83006305e-02,\n",
       "        7.54227800e-03, 1.50256320e-02, 2.53373402e-03, 1.17848094e-04,\n",
       "        6.59949325e-03, 3.83006305e-03, 3.53544281e-03, 8.24936657e-04,\n",
       "        6.48164516e-04, 8.48506275e-03],\n",
       "       [0.00000000e+00, 8.44245853e-03, 1.51436600e-01, 1.46402952e-02,\n",
       "        1.41695946e-01, 1.30489587e-02, 2.23871722e-01, 4.18521481e-02,\n",
       "        2.45308698e-01, 5.04495525e-02, 1.58714870e-03, 1.53228947e-02,\n",
       "        2.10600813e-02, 2.64580620e-02, 1.02054918e-02, 6.28159117e-05,\n",
       "        1.00128563e-02, 1.41419556e-02, 5.95494843e-03, 3.25805195e-03,\n",
       "        6.74224119e-04, 5.15090476e-04],\n",
       "       [0.00000000e+00, 1.14449090e-02, 6.08627302e-01, 6.55598936e-03,\n",
       "        5.80278478e-02, 2.41871955e-01, 1.04083889e-02, 1.68434509e-03,\n",
       "        9.87285354e-03, 5.44173030e-04, 1.69471029e-02, 4.14608023e-03,\n",
       "        8.75859448e-03, 1.76553916e-02, 2.85043016e-04, 8.63766714e-06,\n",
       "        1.20927340e-04, 1.50295408e-03, 6.91013371e-05, 2.59130014e-05,\n",
       "        1.12289673e-03, 3.19593684e-04],\n",
       "       [0.00000000e+00, 1.07918175e-02, 9.77856008e-02, 1.65595396e-01,\n",
       "        1.61798153e-01, 5.80793597e-02, 5.96417670e-02, 1.15763173e-02,\n",
       "        1.72135092e-01, 1.18466072e-02, 5.10913778e-03, 1.47011319e-02,\n",
       "        6.35774512e-02, 9.74098320e-02, 9.62495633e-04, 1.71403332e-04,\n",
       "        2.42601639e-03, 4.88367647e-02, 1.06533763e-02, 5.75519649e-03,\n",
       "        8.63609095e-04, 2.83474741e-04],\n",
       "       [0.00000000e+00, 8.05514576e-03, 6.38419259e-01, 5.32657937e-03,\n",
       "        1.59014061e-02, 5.78482186e-02, 7.04205126e-02, 2.37476664e-02,\n",
       "        8.43375067e-02, 2.94136846e-02, 1.31858950e-02, 5.36574539e-03,\n",
       "        4.36048409e-03, 9.88289359e-03, 6.91933104e-04, 3.91660248e-05,\n",
       "        7.37626800e-03, 1.44914292e-02, 6.16212123e-03, 3.96882384e-03,\n",
       "        6.91933104e-04, 3.13328198e-04],\n",
       "       [0.00000000e+00, 2.29162442e-02, 1.42871628e-01, 1.16237410e-01,\n",
       "        1.25616846e-01, 5.00912594e-02, 1.54177652e-01, 0.00000000e+00,\n",
       "        1.11691340e-01, 1.13719327e-01, 0.00000000e+00, 1.96038667e-03,\n",
       "        6.65348476e-02, 7.01176232e-02, 0.00000000e+00, 0.00000000e+00,\n",
       "        0.00000000e+00, 2.40654364e-02, 0.00000000e+00, 0.00000000e+00,\n",
       "        0.00000000e+00, 0.00000000e+00],\n",
       "       [0.00000000e+00, 3.69871693e-02, 1.24742595e-01, 6.33613179e-02,\n",
       "        7.86472359e-02, 5.57579598e-02, 0.00000000e+00, 8.73594171e-02,\n",
       "        4.77585934e-02, 0.00000000e+00, 1.10644701e-01, 4.35609061e-03,\n",
       "        1.20624109e-01, 6.20148899e-02, 2.58197371e-02, 1.20386504e-02,\n",
       "        1.06130208e-01, 0.00000000e+00, 8.94978616e-03, 2.88293997e-02,\n",
       "        2.05132267e-02, 5.46491367e-03],\n",
       "       [0.00000000e+00, 3.46238037e-02, 2.45402400e-01, 4.33109112e-01,\n",
       "        3.56943135e-02, 8.69669420e-02, 8.09273491e-03, 3.59499577e-03,\n",
       "        2.06113091e-02, 1.58978702e-03, 2.72740345e-02, 4.16220621e-03,\n",
       "        6.88241967e-02, 1.55783150e-02, 1.03855433e-04, 3.99443974e-05,\n",
       "        8.06876827e-04, 1.11924202e-02, 2.31677505e-04, 3.83466215e-04,\n",
       "        1.27023184e-03, 4.47377251e-04],\n",
       "       [0.00000000e+00, 2.10773694e-02, 2.56343407e-01, 1.50993280e-01,\n",
       "        1.82939816e-01, 1.17577939e-01, 1.93148019e-02, 0.00000000e+00,\n",
       "        7.47255168e-02, 1.83600778e-04, 9.51052032e-03, 2.57041090e-03,\n",
       "        5.50067932e-02, 8.77611721e-02, 0.00000000e+00, 0.00000000e+00,\n",
       "        0.00000000e+00, 2.17383322e-02, 2.57041090e-04, 0.00000000e+00,\n",
       "        0.00000000e+00, 0.00000000e+00],\n",
       "       [0.00000000e+00, 2.72415272e-02, 7.83462033e-02, 3.96825397e-03,\n",
       "        8.09738310e-02, 1.19047619e-02, 0.00000000e+00, 1.82861433e-01,\n",
       "        5.94701845e-02, 1.39961390e-02, 2.91773917e-01, 8.29043329e-02,\n",
       "        7.45388245e-03, 1.34062634e-02, 4.44551695e-02, 2.68125268e-04,\n",
       "        4.17202917e-02, 0.00000000e+00, 4.62784213e-02, 4.23637924e-03,\n",
       "        6.43500644e-03, 2.30587731e-03],\n",
       "       [0.00000000e+00, 4.99812101e-02, 4.86659151e-02, 9.04735062e-02,\n",
       "        1.49943630e-01, 2.79969936e-02, 2.34874107e-02, 6.20067644e-03,\n",
       "        9.77076287e-02, 3.57008643e-02, 7.47839158e-02, 2.26700489e-01,\n",
       "        5.55242390e-02, 3.54190154e-02, 1.87899286e-04, 1.87899286e-04,\n",
       "        9.39496430e-05, 4.69748215e-04, 7.61931605e-02, 1.87899286e-04,\n",
       "        9.39496430e-05, 0.00000000e+00],\n",
       "       [0.00000000e+00, 2.19064778e-03, 6.03963639e-02, 1.77913357e-02,\n",
       "        5.36688232e-01, 2.29506183e-02, 5.41110474e-02, 2.05142904e-02,\n",
       "        4.87675047e-02, 6.38768324e-03, 3.39857506e-03, 5.44590943e-03,\n",
       "        1.59692081e-02, 5.15109328e-02, 1.13729424e-01, 6.55146999e-04,\n",
       "        4.36082221e-03, 1.42699206e-02, 5.15928261e-03, 2.76390140e-03,\n",
       "        1.25501597e-02, 3.88993530e-04],\n",
       "       [0.00000000e+00, 1.54511869e-02, 3.01471639e-02, 7.06223338e-02,\n",
       "        2.41728410e-01, 1.43530708e-01, 1.15036842e-01, 3.38415692e-02,\n",
       "        1.31161595e-01, 1.23487029e-02, 2.22480763e-03, 7.42963280e-03,\n",
       "        4.89865899e-02, 9.65852265e-02, 9.45032964e-03, 2.85755108e-04,\n",
       "        5.59263568e-03, 2.07580675e-02, 4.20468230e-03, 6.87853367e-03,\n",
       "        3.12289511e-03, 6.12332374e-04],\n",
       "       [0.00000000e+00, 8.53696742e-03, 1.13565163e-02, 8.17669173e-02,\n",
       "        3.33568296e-01, 1.10119048e-01, 0.00000000e+00, 1.57424812e-02,\n",
       "        3.28947368e-02, 0.00000000e+00, 6.57894737e-03, 3.13283208e-04,\n",
       "        5.02036341e-02, 1.41604010e-01, 7.70676692e-02, 3.91604010e-04,\n",
       "        1.72305764e-03, 0.00000000e+00, 1.16697995e-01, 8.61528822e-03,\n",
       "        1.95802005e-03, 8.61528822e-04],\n",
       "       [0.00000000e+00, 1.09739369e-02, 1.64609053e-02, 1.23456790e-02,\n",
       "        3.40192044e-01, 4.11522634e-03, 0.00000000e+00, 3.88203018e-01,\n",
       "        1.64609053e-02, 0.00000000e+00, 3.01783265e-02, 2.74348422e-03,\n",
       "        7.13305898e-02, 2.46913580e-02, 1.78326475e-02, 3.01783265e-02,\n",
       "        1.09739369e-02, 0.00000000e+00, 2.74348422e-03, 8.23045267e-03,\n",
       "        1.09739369e-02, 1.37174211e-03],\n",
       "       [0.00000000e+00, 1.36252296e-02, 1.45590937e-01, 9.85915493e-02,\n",
       "        1.73606859e-01, 9.07838334e-02, 0.00000000e+00, 1.22473974e-02,\n",
       "        2.87813840e-02, 0.00000000e+00, 7.86895285e-02, 1.53092468e-04,\n",
       "        1.67023882e-01, 8.19044703e-02, 4.47030006e-02, 2.14329455e-03,\n",
       "        1.53092468e-04, 0.00000000e+00, 1.53092468e-02, 1.66870790e-02,\n",
       "        2.51071647e-02, 4.89895897e-03],\n",
       "       [0.00000000e+00, 5.78065621e-03, 3.74672162e-02, 8.16785313e-02,\n",
       "        6.54766365e-01, 1.79307392e-02, 6.20350051e-02, 0.00000000e+00,\n",
       "        8.65492694e-02, 9.90204999e-03, 0.00000000e+00, 1.07049189e-04,\n",
       "        5.56655783e-03, 2.87962319e-02, 0.00000000e+00, 0.00000000e+00,\n",
       "        0.00000000e+00, 9.42032864e-03, 0.00000000e+00, 0.00000000e+00,\n",
       "        0.00000000e+00, 0.00000000e+00],\n",
       "       [0.00000000e+00, 1.41123714e-02, 1.02875231e-01, 3.60063308e-02,\n",
       "        6.27143234e-01, 5.23608547e-02, 0.00000000e+00, 1.58269586e-02,\n",
       "        8.04537061e-03, 5.27565286e-04, 2.66420470e-02, 9.89184912e-03,\n",
       "        1.06831970e-02, 3.48193089e-02, 5.18332894e-02, 1.31891322e-04,\n",
       "        2.11026114e-03, 0.00000000e+00, 4.22052229e-03, 1.71458718e-03,\n",
       "        6.59456608e-04, 3.95673965e-04],\n",
       "       [0.00000000e+00, 6.98924731e-03, 3.44086022e-02, 1.35752688e-01,\n",
       "        1.61290323e-01, 2.63440860e-02, 0.00000000e+00, 8.87096774e-03,\n",
       "        1.34408602e-02, 0.00000000e+00, 5.16129032e-02, 2.68817204e-04,\n",
       "        4.50537634e-01, 2.74193548e-02, 1.26344086e-02, 1.61290323e-03,\n",
       "        3.76344086e-03, 0.00000000e+00, 8.87096774e-03, 2.36559140e-02,\n",
       "        3.25268817e-02, 0.00000000e+00],\n",
       "       [0.00000000e+00, 7.49625187e-04, 8.54572714e-02, 3.74812594e-04,\n",
       "        1.57421289e-02, 1.87406297e-03, 0.00000000e+00, 0.00000000e+00,\n",
       "        1.12443778e-03, 0.00000000e+00, 1.70914543e-01, 3.74812594e-04,\n",
       "        4.18665667e-01, 6.74662669e-03, 2.97976012e-01, 0.00000000e+00,\n",
       "        0.00000000e+00, 0.00000000e+00, 0.00000000e+00, 0.00000000e+00,\n",
       "        0.00000000e+00, 0.00000000e+00],\n",
       "       [0.00000000e+00, 5.77531646e-01, 1.31329114e-01, 9.49367089e-03,\n",
       "        3.16455696e-02, 4.11392405e-02, 0.00000000e+00, 4.58860759e-02,\n",
       "        1.42405063e-02, 0.00000000e+00, 4.43037975e-02, 0.00000000e+00,\n",
       "        1.42405063e-02, 4.74683544e-03, 6.32911392e-03, 3.16455696e-03,\n",
       "        5.06329114e-02, 0.00000000e+00, 0.00000000e+00, 3.16455696e-03,\n",
       "        0.00000000e+00, 2.21518987e-02]])"
      ]
     },
     "execution_count": 221,
     "metadata": {},
     "output_type": "execute_result"
    }
   ],
   "source": [
    "tm_p"
   ]
  },
  {
   "cell_type": "code",
   "execution_count": 222,
   "metadata": {},
   "outputs": [
    {
     "data": {
      "text/plain": [
       "0.010552782963160501"
      ]
     },
     "execution_count": 222,
     "metadata": {},
     "output_type": "execute_result"
    }
   ],
   "source": [
    "tm_p[0,20]"
   ]
  },
  {
   "cell_type": "code",
   "execution_count": 223,
   "metadata": {},
   "outputs": [
    {
     "data": {
      "text/plain": [
       "(58110, 22)"
      ]
     },
     "execution_count": 223,
     "metadata": {},
     "output_type": "execute_result"
    }
   ],
   "source": [
    "em.shape"
   ]
  },
  {
   "cell_type": "code",
   "execution_count": 224,
   "metadata": {},
   "outputs": [],
   "source": [
    "#now i want to find out how many times the row item appeared as the column item\n",
    "for row in df_train.iloc[0:-1,0]:\n",
    "    rowl = eval(row)\n",
    "    for j in range(len(rowl)):\n",
    "        word,tag=rowl[j]\n",
    "        tid= tag2idx[tag]\n",
    "        wid= vocab2idx[word]\n",
    "        em[wid,tid]+=1"
   ]
  },
  {
   "cell_type": "code",
   "execution_count": 225,
   "metadata": {},
   "outputs": [
    {
     "name": "stdout",
     "output_type": "stream",
     "text": [
      "3,3\n"
     ]
    }
   ],
   "source": [
    "print(f\"{vocab2idx['The']},{tag2idx['DET']}\")"
   ]
  },
  {
   "cell_type": "code",
   "execution_count": 226,
   "metadata": {},
   "outputs": [
    {
     "data": {
      "text/plain": [
       "6473.0"
      ]
     },
     "execution_count": 226,
     "metadata": {},
     "output_type": "execute_result"
    }
   ],
   "source": [
    "em[3][3]"
   ]
  },
  {
   "cell_type": "code",
   "execution_count": 227,
   "metadata": {},
   "outputs": [],
   "source": [
    "col_sums = np.sum(em, axis=0, keepdims=True) \n",
    "col_sums[col_sums== 0] = 1\n",
    "em_p = em/col_sums"
   ]
  },
  {
   "cell_type": "code",
   "execution_count": 228,
   "metadata": {},
   "outputs": [
    {
     "data": {
      "text/plain": [
       "array([[0.00000000e+00, 5.83158386e-05, 0.00000000e+00, ...,\n",
       "        0.00000000e+00, 0.00000000e+00, 0.00000000e+00],\n",
       "       [0.00000000e+00, 5.83158386e-05, 0.00000000e+00, ...,\n",
       "        0.00000000e+00, 0.00000000e+00, 0.00000000e+00],\n",
       "       [0.00000000e+00, 0.00000000e+00, 4.66278102e-04, ...,\n",
       "        0.00000000e+00, 0.00000000e+00, 0.00000000e+00],\n",
       "       ...,\n",
       "       [0.00000000e+00, 0.00000000e+00, 0.00000000e+00, ...,\n",
       "        0.00000000e+00, 0.00000000e+00, 0.00000000e+00],\n",
       "       [0.00000000e+00, 0.00000000e+00, 0.00000000e+00, ...,\n",
       "        0.00000000e+00, 0.00000000e+00, 0.00000000e+00],\n",
       "       [0.00000000e+00, 0.00000000e+00, 4.16319734e-06, ...,\n",
       "        0.00000000e+00, 0.00000000e+00, 0.00000000e+00]])"
      ]
     },
     "execution_count": 228,
     "metadata": {},
     "output_type": "execute_result"
    }
   ],
   "source": [
    "em_p"
   ]
  },
  {
   "cell_type": "code",
   "execution_count": 229,
   "metadata": {},
   "outputs": [
    {
     "name": "stdout",
     "output_type": "stream",
     "text": [
      "0.05590485896395073,DET,The\n",
      "0.0007160699417152373,NOUN,industry\n",
      "0.0,NOUN,The\n"
     ]
    }
   ],
   "source": [
    "print(f\"{em_p[3][3]},{idx2tag[3]},{idx2vocab[3]}\")\n",
    "print(f\"{em_p[4][2]},{idx2tag[2]},{idx2vocab[4]}\")\n",
    "print(f\"{em_p[3][2]},{idx2tag[2]},{idx2vocab[3]}\")\n"
   ]
  },
  {
   "cell_type": "code",
   "execution_count": 230,
   "metadata": {},
   "outputs": [
    {
     "name": "stdout",
     "output_type": "stream",
     "text": [
      "[[0. 1. 1. 1. 1. 1. 1. 1. 1. 1. 1. 1. 1. 1. 1. 1. 1. 1. 1. 1. 1. 1.]]\n"
     ]
    }
   ],
   "source": [
    "sums = np.sum(em_p, axis=0, keepdims=True) \n",
    "print(sums)\n",
    "#I have kept 0 as placeholder only, so no tags there"
   ]
  },
  {
   "cell_type": "code",
   "execution_count": 231,
   "metadata": {},
   "outputs": [
    {
     "data": {
      "text/plain": [
       "array([[1.],\n",
       "       [1.],\n",
       "       [1.],\n",
       "       [1.],\n",
       "       [1.],\n",
       "       [1.],\n",
       "       [1.],\n",
       "       [1.],\n",
       "       [1.],\n",
       "       [1.],\n",
       "       [1.],\n",
       "       [1.],\n",
       "       [1.],\n",
       "       [1.],\n",
       "       [1.],\n",
       "       [1.],\n",
       "       [1.],\n",
       "       [1.],\n",
       "       [1.],\n",
       "       [1.],\n",
       "       [1.],\n",
       "       [1.]])"
      ]
     },
     "execution_count": 231,
     "metadata": {},
     "output_type": "execute_result"
    }
   ],
   "source": [
    "sums2 = np.sum(tm_p, axis=1, keepdims=True) \n",
    "sums2"
   ]
  },
  {
   "cell_type": "code",
   "execution_count": 50,
   "metadata": {},
   "outputs": [
    {
     "data": {
      "text/plain": [
       "1.0"
      ]
     },
     "execution_count": 50,
     "metadata": {},
     "output_type": "execute_result"
    }
   ],
   "source": [
    "sums2[6][0]"
   ]
  },
  {
   "cell_type": "code",
   "execution_count": 51,
   "metadata": {},
   "outputs": [
    {
     "data": {
      "text/plain": [
       "(22, 1)"
      ]
     },
     "execution_count": 51,
     "metadata": {},
     "output_type": "execute_result"
    }
   ],
   "source": [
    "sums2.shape"
   ]
  },
  {
   "cell_type": "code",
   "execution_count": 53,
   "metadata": {},
   "outputs": [],
   "source": [
    "def viterbi1(row, tm_p, em_p, vocab2idx):\n",
    "    rowl = eval(row)\n",
    "    n = len(rowl)\n",
    "    dp = np.full((len(tag2idx), n), -np.inf)\n",
    "    bck_ptr = np.zeros((len(tag2idx), n), dtype=int)\n",
    "    first_word, first_tag = rowl[0]\n",
    "    dp[:, 0] = tm_p[0, 1:]*em_p[vocab2idx[first_word], 1:]\n",
    "    for i in range(1, n):\n",
    "        for tag in range(1, len(tag2idx) + 1):\n",
    "            prev_pb = dp[:, i - 1]*tm_p[1:, tag]*em_p[vocab2idx[rowl[i][0]], tag]\n",
    "            dp[tag - 1, i] = np.max(prev_pb)\n",
    "            bck_ptr[tag - 1, i] = np.argmax(prev_pb)\n",
    "    last_tag = np.argmax(dp[:, -1]) \n",
    "    tags = [last_tag]\n",
    "    \n",
    "    for j in range(n - 1, 0, -1):\n",
    "        tags.insert(0, bck_ptr[tags[0]-1, j]+1)  \n",
    "\n",
    "    return tags"
   ]
  },
  {
   "cell_type": "code",
   "execution_count": 54,
   "metadata": {},
   "outputs": [],
   "source": [
    "def viterbi2(row, tm_p, em_p, vocab2idx):\n",
    "    rowl = eval(row)\n",
    "    n = len(rowl)\n",
    "    dp = np.full((len(tag2idx), n), -np.inf)\n",
    "    bck_ptr = np.zeros((len(tag2idx), n), dtype=int)\n",
    "    first_word,_= rowl[0]\n",
    "    dp[:, 0] = np.log(tm_p[0, 1:]+ 1e-40) + np.log(em_p[vocab2idx[first_word], 1:]+ 1e-40)\n",
    "    \n",
    "    for i in range(1, n):\n",
    "        for tag in range(1, len(tag2idx) + 1):\n",
    "            prev_pb = dp[:, i - 1] + np.log(tm_p[1:, tag]+ 1e-40) + np.log(em_p[vocab2idx[rowl[i][0]], tag]+ 1e-40)\n",
    "            dp[tag - 1, i] = np.max(prev_pb)\n",
    "            bck_ptr[tag - 1, i] = np.argmax(prev_pb)\n",
    "    last_tag = np.argmax(dp[:, -1]) \n",
    "    tags = [last_tag]\n",
    "    \n",
    "    for j in range(n - 1, 0, -1):\n",
    "        tags.insert(0, bck_ptr[tags[0]-1, j]+1)  \n",
    "\n",
    "    return tags\n"
   ]
  },
  {
   "cell_type": "code",
   "execution_count": 91,
   "metadata": {},
   "outputs": [
    {
     "data": {
      "text/plain": [
       "\"[('are', 'AUX'), ('you', 'PRON'), ('lying', 'VERB'), ('?', 'PUNCT')]\""
      ]
     },
     "execution_count": 91,
     "metadata": {},
     "output_type": "execute_result"
    }
   ],
   "source": [
    "row=df_test.iloc[546,0]\n",
    "row"
   ]
  },
  {
   "cell_type": "code",
   "execution_count": 92,
   "metadata": {},
   "outputs": [
    {
     "data": {
      "text/plain": [
       "[1, 1, 1, 5]"
      ]
     },
     "execution_count": 92,
     "metadata": {},
     "output_type": "execute_result"
    }
   ],
   "source": [
    "tgs=viterbi1(row,tm_p,em_p,vocab2idx)\n",
    "tgs"
   ]
  },
  {
   "cell_type": "code",
   "execution_count": 93,
   "metadata": {},
   "outputs": [
    {
     "name": "stdout",
     "output_type": "stream",
     "text": [
      "NUM\n",
      "NUM\n",
      "NUM\n",
      "ADJ\n"
     ]
    }
   ],
   "source": [
    "for t in tgs:\n",
    "    print(idx2tag[t])"
   ]
  },
  {
   "cell_type": "code",
   "execution_count": 94,
   "metadata": {},
   "outputs": [
    {
     "name": "stdout",
     "output_type": "stream",
     "text": [
      "[4, 12, 4, 5]\n",
      "VERB\n",
      "PRON\n",
      "VERB\n",
      "ADJ\n"
     ]
    }
   ],
   "source": [
    "tgs=viterbi2(row,tm_p,em_p,vocab2idx)\n",
    "print(tgs)\n",
    "for t in tgs:\n",
    "    print(idx2tag[t])"
   ]
  },
  {
   "cell_type": "code",
   "execution_count": 188,
   "metadata": {},
   "outputs": [],
   "source": [
    "train_scores=[]\n",
    "grd_cm=[]\n",
    "pred_cm=[]\n",
    "for row in df_train.iloc[0:-1,0]:\n",
    "    rowl= eval(row)\n",
    "    grd_t=[]\n",
    "    for _,tg in rowl:\n",
    "        grd_t.append(tg)\n",
    "    grd_cm.extend(grd_t)\n",
    "    idxs = viterbi2(row,tm_p,em_p,vocab2idx)\n",
    "    pred_t = [idx2tag.get(i, \"UNKNOWN\") for i in idxs]\n",
    "    sums=0\n",
    "    for i in range(len(grd_t)):\n",
    "        if(grd_t[i]==pred_t[i]): sums+=1\n",
    "    score= sums/len(grd_t)\n",
    "    pred_cm.extend(pred_t)\n",
    "    train_scores.append(score)\n"
   ]
  },
  {
   "cell_type": "code",
   "execution_count": 189,
   "metadata": {},
   "outputs": [
    {
     "data": {
      "text/plain": [
       "[0.6666666666666666,\n",
       " 0.9,\n",
       " 0.75,\n",
       " 0.9565217391304348,\n",
       " 0.7,\n",
       " 0.8333333333333334,\n",
       " 0.6666666666666666,\n",
       " 0.9090909090909091,\n",
       " 0.9090909090909091,\n",
       " 0.8]"
      ]
     },
     "execution_count": 189,
     "metadata": {},
     "output_type": "execute_result"
    }
   ],
   "source": [
    "train_scores[0:10]"
   ]
  },
  {
   "cell_type": "code",
   "execution_count": 190,
   "metadata": {},
   "outputs": [
    {
     "data": {
      "text/plain": [
       "list"
      ]
     },
     "execution_count": 190,
     "metadata": {},
     "output_type": "execute_result"
    }
   ],
   "source": [
    "type(train_scores)"
   ]
  },
  {
   "cell_type": "code",
   "execution_count": 191,
   "metadata": {},
   "outputs": [
    {
     "data": {
      "text/plain": [
       "0.8076053374197312"
      ]
     },
     "execution_count": 191,
     "metadata": {},
     "output_type": "execute_result"
    }
   ],
   "source": [
    "average_score= sum(train_scores)/len(train_scores)\n",
    "average_score"
   ]
  },
  {
   "cell_type": "code",
   "execution_count": 192,
   "metadata": {},
   "outputs": [
    {
     "name": "stdout",
     "output_type": "stream",
     "text": [
      "1056968,1056968\n"
     ]
    }
   ],
   "source": [
    "print(f\"{len(grd_cm)},{len(pred_cm)}\")"
   ]
  },
  {
   "cell_type": "code",
   "execution_count": 194,
   "metadata": {},
   "outputs": [
    {
     "data": {
      "image/png": "[encoded data removed]",
      "text/plain": [
       "<Figure size 2000x1000 with 2 Axes>"
      ]
     },
     "metadata": {},
     "output_type": "display_data"
    }
   ],
   "source": [
    "import seaborn as sns\n",
    "from sklearn.metrics import confusion_matrix\n",
    "\n",
    "labels= list(tag2idx.keys())+['UNKNOWN']\n",
    "cm = confusion_matrix(grd_cm, pred_cm, labels=labels)\n",
    "\n",
    "plt.figure(figsize=(20, 10))\n",
    "sns.heatmap(cm, annot=True, fmt=\"d\", cmap=\"magma\", xticklabels=labels, yticklabels=labels)\n",
    "plt.xlabel(\"Predicted Label\")\n",
    "plt.ylabel(\"True Label\")\n",
    "plt.title(\"Confusion Matrix\")\n",
    "plt.show()"
   ]
  },
  {
   "cell_type": "code",
   "execution_count": 253,
   "metadata": {},
   "outputs": [],
   "source": [
    "test_scores=[]\n",
    "grd_cm_t=[]\n",
    "pred_cm_t=[]\n",
    "for row in df_test_3.iloc[0:-1,0]:\n",
    "    try:\n",
    "        rowl = eval(row)  \n",
    "        if not isinstance(rowl, list) or len(rowl) == 0:\n",
    "            continue \n",
    "    except:\n",
    "        continue \n",
    "    grd_t=[]\n",
    "    for _,tg in rowl:\n",
    "        grd_t.append(tg)\n",
    "    grd_cm_t.extend(grd_t)\n",
    "    idxs = viterbi2(row,tm_p,em_p,vocab2idx)\n",
    "    pred_t = [idx2tag.get(i, \"UNKNOWN\") for i in idxs]\n",
    "    sums=0\n",
    "    for i in range(len(grd_t)):\n",
    "        if(grd_t[i]==pred_t[i]): sums+=1\n",
    "    score= sums/len(grd_t)\n",
    "    pred_cm_t.extend(pred_t)\n",
    "    test_scores.append(score)\n"
   ]
  },
  {
   "cell_type": "code",
   "execution_count": 259,
   "metadata": {},
   "outputs": [
    {
     "data": {
      "text/plain": [
       "0.8087287002245158"
      ]
     },
     "execution_count": 259,
     "metadata": {},
     "output_type": "execute_result"
    }
   ],
   "source": [
    "average_test_score= sum(test_scores)/len(test_scores)\n",
    "average_test_score\n"
   ]
  },
  {
   "cell_type": "code",
   "execution_count": 260,
   "metadata": {},
   "outputs": [
    {
     "name": "stdout",
     "output_type": "stream",
     "text": [
      "252025,252025\n"
     ]
    }
   ],
   "source": [
    "print(f\"{len(grd_cm_t)},{len(pred_cm_t)}\")"
   ]
  },
  {
   "cell_type": "code",
   "execution_count": 261,
   "metadata": {},
   "outputs": [
    {
     "data": {
      "image/png": "[encoded data removed]",
      "text/plain": [
       "<Figure size 2000x1000 with 2 Axes>"
      ]
     },
     "metadata": {},
     "output_type": "display_data"
    }
   ],
   "source": [
    "cm_test = confusion_matrix(grd_cm_t, pred_cm_t, labels=labels)\n",
    "\n",
    "plt.figure(figsize=(20, 10))\n",
    "sns.heatmap(cm_test, annot=True, fmt=\"d\", cmap=\"magma\", xticklabels=labels, yticklabels=labels)\n",
    "plt.xlabel(\"Predicted Label\")\n",
    "plt.ylabel(\"True Label\")\n",
    "plt.title(\"Confusion Matrix\")\n",
    "plt.show()"
   ]
  }
 ],
 "metadata": {
  "kernelspec": {
   "display_name": "Python 3",
   "language": "python",
   "name": "python3"
  },
  "language_info": {
   "codemirror_mode": {
    "name": "ipython",
    "version": 3
   },
   "file_extension": ".py",
   "mimetype": "text/x-python",
   "name": "python",
   "nbconvert_exporter": "python",
   "pygments_lexer": "ipython3",
   "version": "3.12.2"
  }
 },
 "nbformat": 4,
 "nbformat_minor": 2
}
